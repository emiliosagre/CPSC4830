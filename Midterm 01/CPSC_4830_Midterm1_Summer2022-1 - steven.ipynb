{
 "cells": [
  {
   "cell_type": "markdown",
   "metadata": {},
   "source": [
    "### <h1 align=\"center\">CPSC 4830</h1>\n",
    "<h2 align=\"center\">MIDTERM</h2>\n",
    "<h2 align=\"center\">TIME - 2 HR 30 MIN</h2>\n",
    "<h2 align=\"center\">START TIME - 3.30 PM, END TIME - 6.00 PM</h2>\n",
    "<h2 align=\"center\">MAX MARKS - 20</h2>\n",
    "\n",
    "<h2 align=\"center\">All work must be completed in this file and Submit the resulting .ipynb in D2L</h2>\n",
    "\n",
    "<h2 align=\"center\"> Absolutely No Collaboration. Solutions with 90% and above similarity would be investigated further for possible plagiarism and cheating. If found guilty, then collobarators would be assigned a grade of 0 without any grades even for non cheated part.</h2>\n"
   ]
  },
  {
   "cell_type": "markdown",
   "metadata": {},
   "source": [
    "### Q1. The SMS Spam Collection is a set of SMS tagged messages that have been collected from SMS Spam research database. It contains one set of SMS messages in English of 5,572 messages, tagged acording being ham (legitimate) or spam.\n",
    "\n",
    "### Out of the 5572 sets of sms messages, approximately 20% of the messages have been trimmed and kept aside for Evaluating your model by the Instructor. You only have 4458 rows to build your model. Rest will be used by the instructor as a blind evaluation of your model. This data is not provided to you.\n",
    "\n",
    "### Use this dataset to build a prediction model as follows that will accurately classify which texts are spam? \n",
    "\n",
    "### Use Logistic Regression with L2 Regularisation and CV (K=3) (using your intelligent choice of Hyperparameters), find the accuracy of SPAM/HAM detection. [10 Marks]"
   ]
  },
  {
   "cell_type": "code",
   "execution_count": 18,
   "metadata": {
    "collapsed": true
   },
   "outputs": [],
   "source": [
    "# Start Here for Q1"
   ]
  },
  {
   "cell_type": "code",
   "execution_count": 1,
   "metadata": {},
   "outputs": [],
   "source": [
    "import pandas as pd\n",
    "import numpy as np\n",
    "import warnings\n",
    "import seaborn as sns\n",
    "\n",
    "import matplotlib.pyplot as plt\n",
    "%matplotlib inline"
   ]
  },
  {
   "cell_type": "code",
   "execution_count": 11,
   "metadata": {},
   "outputs": [],
   "source": [
    "import warnings\n",
    "warnings.filterwarnings(\"ignore\")"
   ]
  },
  {
   "cell_type": "code",
   "execution_count": 3,
   "metadata": {},
   "outputs": [
    {
     "data": {
      "text/html": [
       "<div>\n",
       "<style scoped>\n",
       "    .dataframe tbody tr th:only-of-type {\n",
       "        vertical-align: middle;\n",
       "    }\n",
       "\n",
       "    .dataframe tbody tr th {\n",
       "        vertical-align: top;\n",
       "    }\n",
       "\n",
       "    .dataframe thead th {\n",
       "        text-align: right;\n",
       "    }\n",
       "</style>\n",
       "<table border=\"1\" class=\"dataframe\">\n",
       "  <thead>\n",
       "    <tr style=\"text-align: right;\">\n",
       "      <th></th>\n",
       "      <th>Category</th>\n",
       "      <th>Message</th>\n",
       "    </tr>\n",
       "  </thead>\n",
       "  <tbody>\n",
       "    <tr>\n",
       "      <th>0</th>\n",
       "      <td>ham</td>\n",
       "      <td>K I'm leaving soon, be there a little after 9</td>\n",
       "    </tr>\n",
       "    <tr>\n",
       "      <th>1</th>\n",
       "      <td>ham</td>\n",
       "      <td>No. Yes please. Been swimming?</td>\n",
       "    </tr>\n",
       "    <tr>\n",
       "      <th>2</th>\n",
       "      <td>ham</td>\n",
       "      <td>It took Mr owl 3 licks</td>\n",
       "    </tr>\n",
       "    <tr>\n",
       "      <th>3</th>\n",
       "      <td>ham</td>\n",
       "      <td>Its going good...no problem..but still need li...</td>\n",
       "    </tr>\n",
       "    <tr>\n",
       "      <th>4</th>\n",
       "      <td>ham</td>\n",
       "      <td>K.. I yan jiu liao... Sat we can go 4 bugis vi...</td>\n",
       "    </tr>\n",
       "    <tr>\n",
       "      <th>...</th>\n",
       "      <td>...</td>\n",
       "      <td>...</td>\n",
       "    </tr>\n",
       "    <tr>\n",
       "      <th>4452</th>\n",
       "      <td>ham</td>\n",
       "      <td>K:)k:)good:)study well.</td>\n",
       "    </tr>\n",
       "    <tr>\n",
       "      <th>4453</th>\n",
       "      <td>ham</td>\n",
       "      <td>Chinatown got porridge, claypot rice, yam cake...</td>\n",
       "    </tr>\n",
       "    <tr>\n",
       "      <th>4454</th>\n",
       "      <td>ham</td>\n",
       "      <td>Hmm... Dunno leh, mayb a bag 4 goigng out dat ...</td>\n",
       "    </tr>\n",
       "    <tr>\n",
       "      <th>4455</th>\n",
       "      <td>ham</td>\n",
       "      <td>Tell me whos this pls:-)</td>\n",
       "    </tr>\n",
       "    <tr>\n",
       "      <th>4456</th>\n",
       "      <td>ham</td>\n",
       "      <td>You are gorgeous! keep those pix cumming :) th...</td>\n",
       "    </tr>\n",
       "  </tbody>\n",
       "</table>\n",
       "<p>4457 rows × 2 columns</p>\n",
       "</div>"
      ],
      "text/plain": [
       "     Category                                            Message\n",
       "0         ham      K I'm leaving soon, be there a little after 9\n",
       "1         ham                     No. Yes please. Been swimming?\n",
       "2         ham                             It took Mr owl 3 licks\n",
       "3         ham  Its going good...no problem..but still need li...\n",
       "4         ham  K.. I yan jiu liao... Sat we can go 4 bugis vi...\n",
       "...       ...                                                ...\n",
       "4452      ham                            K:)k:)good:)study well.\n",
       "4453      ham  Chinatown got porridge, claypot rice, yam cake...\n",
       "4454      ham  Hmm... Dunno leh, mayb a bag 4 goigng out dat ...\n",
       "4455      ham                           Tell me whos this pls:-)\n",
       "4456      ham  You are gorgeous! keep those pix cumming :) th...\n",
       "\n",
       "[4457 rows x 2 columns]"
      ]
     },
     "execution_count": 3,
     "metadata": {},
     "output_type": "execute_result"
    }
   ],
   "source": [
    "spam = pd.read_csv(\"spamhamtrain.csv\")\n",
    "spam"
   ]
  },
  {
   "cell_type": "code",
   "execution_count": 6,
   "metadata": {},
   "outputs": [
    {
     "data": {
      "text/plain": [
       "array(['ham', 'spam'], dtype=object)"
      ]
     },
     "execution_count": 6,
     "metadata": {},
     "output_type": "execute_result"
    }
   ],
   "source": [
    "spam['Category'].unique()"
   ]
  },
  {
   "cell_type": "code",
   "execution_count": 7,
   "metadata": {
    "scrolled": true
   },
   "outputs": [
    {
     "data": {
      "text/plain": [
       "array([\"K I'm leaving soon, be there a little after 9\",\n",
       "       'No. Yes please. Been swimming?', 'It took Mr owl 3 licks', ...,\n",
       "       'Hmm... Dunno leh, mayb a bag 4 goigng out dat is not too small. Or jus anything except perfume, smth dat i can keep.',\n",
       "       'Tell me whos this pls:-)',\n",
       "       'You are gorgeous! keep those pix cumming :) thank you!'],\n",
       "      dtype=object)"
      ]
     },
     "execution_count": 7,
     "metadata": {},
     "output_type": "execute_result"
    }
   ],
   "source": [
    "spam['Message'].unique()"
   ]
  },
  {
   "cell_type": "code",
   "execution_count": 9,
   "metadata": {},
   "outputs": [
    {
     "data": {
      "text/plain": [
       "Category       2\n",
       "Message     4157\n",
       "dtype: int64"
      ]
     },
     "execution_count": 9,
     "metadata": {},
     "output_type": "execute_result"
    }
   ],
   "source": [
    "spam.nunique()"
   ]
  },
  {
   "cell_type": "code",
   "execution_count": 10,
   "metadata": {},
   "outputs": [
    {
     "data": {
      "text/plain": [
       "False"
      ]
     },
     "execution_count": 10,
     "metadata": {},
     "output_type": "execute_result"
    }
   ],
   "source": [
    "spam.isnull().values.any()"
   ]
  },
  {
   "cell_type": "code",
   "execution_count": 12,
   "metadata": {},
   "outputs": [
    {
     "data": {
      "text/plain": [
       "<bound method NDFrame.describe of      Category                                            Message\n",
       "0         ham      K I'm leaving soon, be there a little after 9\n",
       "1         ham                     No. Yes please. Been swimming?\n",
       "2         ham                             It took Mr owl 3 licks\n",
       "3         ham  Its going good...no problem..but still need li...\n",
       "4         ham  K.. I yan jiu liao... Sat we can go 4 bugis vi...\n",
       "...       ...                                                ...\n",
       "4452      ham                            K:)k:)good:)study well.\n",
       "4453      ham  Chinatown got porridge, claypot rice, yam cake...\n",
       "4454      ham  Hmm... Dunno leh, mayb a bag 4 goigng out dat ...\n",
       "4455      ham                           Tell me whos this pls:-)\n",
       "4456      ham  You are gorgeous! keep those pix cumming :) th...\n",
       "\n",
       "[4457 rows x 2 columns]>"
      ]
     },
     "execution_count": 12,
     "metadata": {},
     "output_type": "execute_result"
    }
   ],
   "source": [
    "spam.describe"
   ]
  },
  {
   "cell_type": "code",
   "execution_count": 14,
   "metadata": {},
   "outputs": [
    {
     "data": {
      "image/png": "[encoded data removed]",
      "text/plain": [
       "<Figure size 360x648 with 1 Axes>"
      ]
     },
     "metadata": {},
     "output_type": "display_data"
    }
   ],
   "source": [
    "plt.figure(\"figsize\", (5,9))\n",
    "plt.title(\"Percentages (%) of Spam vs Ham\", color=\"k\", loc=\"left\", )\n",
    "plt.pie(spam.Category.value_counts(), labels=[\"Ham\",\"Spam\"], colors=[ \"#90ee90\",\"red\"], autopct=\"%0.2f\", explode=(0, 0.1), shadow=True)\n",
    "plt.show()"
   ]
  },
  {
   "cell_type": "code",
   "execution_count": 15,
   "metadata": {},
   "outputs": [
    {
     "data": {
      "text/plain": [
       "300"
      ]
     },
     "execution_count": 15,
     "metadata": {},
     "output_type": "execute_result"
    }
   ],
   "source": [
    "spam.duplicated().sum()"
   ]
  },
  {
   "cell_type": "code",
   "execution_count": 16,
   "metadata": {},
   "outputs": [],
   "source": [
    "spam = spam.drop_duplicates(keep='first')"
   ]
  },
  {
   "cell_type": "code",
   "execution_count": 18,
   "metadata": {},
   "outputs": [
    {
     "data": {
      "text/html": [
       "<div>\n",
       "<style scoped>\n",
       "    .dataframe tbody tr th:only-of-type {\n",
       "        vertical-align: middle;\n",
       "    }\n",
       "\n",
       "    .dataframe tbody tr th {\n",
       "        vertical-align: top;\n",
       "    }\n",
       "\n",
       "    .dataframe thead th {\n",
       "        text-align: right;\n",
       "    }\n",
       "</style>\n",
       "<table border=\"1\" class=\"dataframe\">\n",
       "  <thead>\n",
       "    <tr style=\"text-align: right;\">\n",
       "      <th></th>\n",
       "      <th>Category</th>\n",
       "      <th>Message</th>\n",
       "    </tr>\n",
       "  </thead>\n",
       "  <tbody>\n",
       "    <tr>\n",
       "      <th>0</th>\n",
       "      <td>0</td>\n",
       "      <td>K I'm leaving soon, be there a little after 9</td>\n",
       "    </tr>\n",
       "    <tr>\n",
       "      <th>1</th>\n",
       "      <td>0</td>\n",
       "      <td>No. Yes please. Been swimming?</td>\n",
       "    </tr>\n",
       "    <tr>\n",
       "      <th>2</th>\n",
       "      <td>0</td>\n",
       "      <td>It took Mr owl 3 licks</td>\n",
       "    </tr>\n",
       "    <tr>\n",
       "      <th>3</th>\n",
       "      <td>0</td>\n",
       "      <td>Its going good...no problem..but still need li...</td>\n",
       "    </tr>\n",
       "    <tr>\n",
       "      <th>4</th>\n",
       "      <td>0</td>\n",
       "      <td>K.. I yan jiu liao... Sat we can go 4 bugis vi...</td>\n",
       "    </tr>\n",
       "    <tr>\n",
       "      <th>...</th>\n",
       "      <td>...</td>\n",
       "      <td>...</td>\n",
       "    </tr>\n",
       "    <tr>\n",
       "      <th>4452</th>\n",
       "      <td>0</td>\n",
       "      <td>K:)k:)good:)study well.</td>\n",
       "    </tr>\n",
       "    <tr>\n",
       "      <th>4453</th>\n",
       "      <td>0</td>\n",
       "      <td>Chinatown got porridge, claypot rice, yam cake...</td>\n",
       "    </tr>\n",
       "    <tr>\n",
       "      <th>4454</th>\n",
       "      <td>0</td>\n",
       "      <td>Hmm... Dunno leh, mayb a bag 4 goigng out dat ...</td>\n",
       "    </tr>\n",
       "    <tr>\n",
       "      <th>4455</th>\n",
       "      <td>0</td>\n",
       "      <td>Tell me whos this pls:-)</td>\n",
       "    </tr>\n",
       "    <tr>\n",
       "      <th>4456</th>\n",
       "      <td>0</td>\n",
       "      <td>You are gorgeous! keep those pix cumming :) th...</td>\n",
       "    </tr>\n",
       "  </tbody>\n",
       "</table>\n",
       "<p>4157 rows × 2 columns</p>\n",
       "</div>"
      ],
      "text/plain": [
       "      Category                                            Message\n",
       "0            0      K I'm leaving soon, be there a little after 9\n",
       "1            0                     No. Yes please. Been swimming?\n",
       "2            0                             It took Mr owl 3 licks\n",
       "3            0  Its going good...no problem..but still need li...\n",
       "4            0  K.. I yan jiu liao... Sat we can go 4 bugis vi...\n",
       "...        ...                                                ...\n",
       "4452         0                            K:)k:)good:)study well.\n",
       "4453         0  Chinatown got porridge, claypot rice, yam cake...\n",
       "4454         0  Hmm... Dunno leh, mayb a bag 4 goigng out dat ...\n",
       "4455         0                           Tell me whos this pls:-)\n",
       "4456         0  You are gorgeous! keep those pix cumming :) th...\n",
       "\n",
       "[4157 rows x 2 columns]"
      ]
     },
     "execution_count": 18,
     "metadata": {},
     "output_type": "execute_result"
    }
   ],
   "source": [
    "#Converting Category into 0 and 1\n",
    "spam['Category'] = pd.factorize(spam.Category)[0]\n",
    "spam"
   ]
  },
  {
   "cell_type": "code",
   "execution_count": 23,
   "metadata": {},
   "outputs": [
    {
     "name": "stdout",
     "output_type": "stream",
     "text": [
      "Requirement already satisfied: nltk in /opt/anaconda3/lib/python3.8/site-packages (3.6.1)\n",
      "Requirement already satisfied: click in /opt/anaconda3/lib/python3.8/site-packages (from nltk) (7.1.2)\n",
      "Requirement already satisfied: joblib in /opt/anaconda3/lib/python3.8/site-packages (from nltk) (1.0.1)\n",
      "Requirement already satisfied: regex in /opt/anaconda3/lib/python3.8/site-packages (from nltk) (2021.4.4)\n",
      "Requirement already satisfied: tqdm in /opt/anaconda3/lib/python3.8/site-packages (from nltk) (4.59.0)\n"
     ]
    },
    {
     "name": "stderr",
     "output_type": "stream",
     "text": [
      "[nltk_data] Downloading package punkt to\n",
      "[nltk_data]     /Users/stevenwhang/nltk_data...\n",
      "[nltk_data]   Unzipping tokenizers/punkt.zip.\n"
     ]
    },
    {
     "data": {
      "text/plain": [
       "True"
      ]
     },
     "execution_count": 23,
     "metadata": {},
     "output_type": "execute_result"
    }
   ],
   "source": [
    "import nltk\n",
    "!pip install nltk\n",
    "nltk.download(\"punkt\")"
   ]
  },
  {
   "cell_type": "code",
   "execution_count": 27,
   "metadata": {},
   "outputs": [
    {
     "data": {
      "text/html": [
       "<div>\n",
       "<style scoped>\n",
       "    .dataframe tbody tr th:only-of-type {\n",
       "        vertical-align: middle;\n",
       "    }\n",
       "\n",
       "    .dataframe tbody tr th {\n",
       "        vertical-align: top;\n",
       "    }\n",
       "\n",
       "    .dataframe thead th {\n",
       "        text-align: right;\n",
       "    }\n",
       "</style>\n",
       "<table border=\"1\" class=\"dataframe\">\n",
       "  <thead>\n",
       "    <tr style=\"text-align: right;\">\n",
       "      <th></th>\n",
       "      <th>Category</th>\n",
       "      <th>Message</th>\n",
       "      <th>length</th>\n",
       "      <th>number of char</th>\n",
       "    </tr>\n",
       "  </thead>\n",
       "  <tbody>\n",
       "    <tr>\n",
       "      <th>0</th>\n",
       "      <td>0</td>\n",
       "      <td>K I'm leaving soon, be there a little after 9</td>\n",
       "      <td>45</td>\n",
       "      <td>45</td>\n",
       "    </tr>\n",
       "    <tr>\n",
       "      <th>1</th>\n",
       "      <td>0</td>\n",
       "      <td>No. Yes please. Been swimming?</td>\n",
       "      <td>30</td>\n",
       "      <td>30</td>\n",
       "    </tr>\n",
       "    <tr>\n",
       "      <th>2</th>\n",
       "      <td>0</td>\n",
       "      <td>It took Mr owl 3 licks</td>\n",
       "      <td>22</td>\n",
       "      <td>22</td>\n",
       "    </tr>\n",
       "    <tr>\n",
       "      <th>3</th>\n",
       "      <td>0</td>\n",
       "      <td>Its going good...no problem..but still need li...</td>\n",
       "      <td>102</td>\n",
       "      <td>102</td>\n",
       "    </tr>\n",
       "    <tr>\n",
       "      <th>4</th>\n",
       "      <td>0</td>\n",
       "      <td>K.. I yan jiu liao... Sat we can go 4 bugis vi...</td>\n",
       "      <td>155</td>\n",
       "      <td>155</td>\n",
       "    </tr>\n",
       "  </tbody>\n",
       "</table>\n",
       "</div>"
      ],
      "text/plain": [
       "   Category                                            Message  length  \\\n",
       "0         0      K I'm leaving soon, be there a little after 9      45   \n",
       "1         0                     No. Yes please. Been swimming?      30   \n",
       "2         0                             It took Mr owl 3 licks      22   \n",
       "3         0  Its going good...no problem..but still need li...     102   \n",
       "4         0  K.. I yan jiu liao... Sat we can go 4 bugis vi...     155   \n",
       "\n",
       "   number of char  \n",
       "0              45  \n",
       "1              30  \n",
       "2              22  \n",
       "3             102  \n",
       "4             155  "
      ]
     },
     "execution_count": 27,
     "metadata": {},
     "output_type": "execute_result"
    }
   ],
   "source": [
    "spam['number of char'] = spam['Message'].apply(len)\n",
    "spam.head()"
   ]
  },
  {
   "cell_type": "code",
   "execution_count": 30,
   "metadata": {},
   "outputs": [],
   "source": [
    "spam = spam.drop('length', 1)"
   ]
  },
  {
   "cell_type": "code",
   "execution_count": 31,
   "metadata": {
    "scrolled": true
   },
   "outputs": [
    {
     "data": {
      "text/html": [
       "<div>\n",
       "<style scoped>\n",
       "    .dataframe tbody tr th:only-of-type {\n",
       "        vertical-align: middle;\n",
       "    }\n",
       "\n",
       "    .dataframe tbody tr th {\n",
       "        vertical-align: top;\n",
       "    }\n",
       "\n",
       "    .dataframe thead th {\n",
       "        text-align: right;\n",
       "    }\n",
       "</style>\n",
       "<table border=\"1\" class=\"dataframe\">\n",
       "  <thead>\n",
       "    <tr style=\"text-align: right;\">\n",
       "      <th></th>\n",
       "      <th>Category</th>\n",
       "      <th>Message</th>\n",
       "      <th>number of char</th>\n",
       "    </tr>\n",
       "  </thead>\n",
       "  <tbody>\n",
       "    <tr>\n",
       "      <th>0</th>\n",
       "      <td>0</td>\n",
       "      <td>K I'm leaving soon, be there a little after 9</td>\n",
       "      <td>45</td>\n",
       "    </tr>\n",
       "    <tr>\n",
       "      <th>1</th>\n",
       "      <td>0</td>\n",
       "      <td>No. Yes please. Been swimming?</td>\n",
       "      <td>30</td>\n",
       "    </tr>\n",
       "    <tr>\n",
       "      <th>2</th>\n",
       "      <td>0</td>\n",
       "      <td>It took Mr owl 3 licks</td>\n",
       "      <td>22</td>\n",
       "    </tr>\n",
       "    <tr>\n",
       "      <th>3</th>\n",
       "      <td>0</td>\n",
       "      <td>Its going good...no problem..but still need li...</td>\n",
       "      <td>102</td>\n",
       "    </tr>\n",
       "    <tr>\n",
       "      <th>4</th>\n",
       "      <td>0</td>\n",
       "      <td>K.. I yan jiu liao... Sat we can go 4 bugis vi...</td>\n",
       "      <td>155</td>\n",
       "    </tr>\n",
       "    <tr>\n",
       "      <th>...</th>\n",
       "      <td>...</td>\n",
       "      <td>...</td>\n",
       "      <td>...</td>\n",
       "    </tr>\n",
       "    <tr>\n",
       "      <th>4452</th>\n",
       "      <td>0</td>\n",
       "      <td>K:)k:)good:)study well.</td>\n",
       "      <td>23</td>\n",
       "    </tr>\n",
       "    <tr>\n",
       "      <th>4453</th>\n",
       "      <td>0</td>\n",
       "      <td>Chinatown got porridge, claypot rice, yam cake...</td>\n",
       "      <td>131</td>\n",
       "    </tr>\n",
       "    <tr>\n",
       "      <th>4454</th>\n",
       "      <td>0</td>\n",
       "      <td>Hmm... Dunno leh, mayb a bag 4 goigng out dat ...</td>\n",
       "      <td>116</td>\n",
       "    </tr>\n",
       "    <tr>\n",
       "      <th>4455</th>\n",
       "      <td>0</td>\n",
       "      <td>Tell me whos this pls:-)</td>\n",
       "      <td>24</td>\n",
       "    </tr>\n",
       "    <tr>\n",
       "      <th>4456</th>\n",
       "      <td>0</td>\n",
       "      <td>You are gorgeous! keep those pix cumming :) th...</td>\n",
       "      <td>54</td>\n",
       "    </tr>\n",
       "  </tbody>\n",
       "</table>\n",
       "<p>4157 rows × 3 columns</p>\n",
       "</div>"
      ],
      "text/plain": [
       "      Category                                            Message  \\\n",
       "0            0      K I'm leaving soon, be there a little after 9   \n",
       "1            0                     No. Yes please. Been swimming?   \n",
       "2            0                             It took Mr owl 3 licks   \n",
       "3            0  Its going good...no problem..but still need li...   \n",
       "4            0  K.. I yan jiu liao... Sat we can go 4 bugis vi...   \n",
       "...        ...                                                ...   \n",
       "4452         0                            K:)k:)good:)study well.   \n",
       "4453         0  Chinatown got porridge, claypot rice, yam cake...   \n",
       "4454         0  Hmm... Dunno leh, mayb a bag 4 goigng out dat ...   \n",
       "4455         0                           Tell me whos this pls:-)   \n",
       "4456         0  You are gorgeous! keep those pix cumming :) th...   \n",
       "\n",
       "      number of char  \n",
       "0                 45  \n",
       "1                 30  \n",
       "2                 22  \n",
       "3                102  \n",
       "4                155  \n",
       "...              ...  \n",
       "4452              23  \n",
       "4453             131  \n",
       "4454             116  \n",
       "4455              24  \n",
       "4456              54  \n",
       "\n",
       "[4157 rows x 3 columns]"
      ]
     },
     "execution_count": 31,
     "metadata": {},
     "output_type": "execute_result"
    }
   ],
   "source": [
    "spam"
   ]
  },
  {
   "cell_type": "code",
   "execution_count": 40,
   "metadata": {},
   "outputs": [
    {
     "data": {
      "text/html": [
       "<div>\n",
       "<style scoped>\n",
       "    .dataframe tbody tr th:only-of-type {\n",
       "        vertical-align: middle;\n",
       "    }\n",
       "\n",
       "    .dataframe tbody tr th {\n",
       "        vertical-align: top;\n",
       "    }\n",
       "\n",
       "    .dataframe thead th {\n",
       "        text-align: right;\n",
       "    }\n",
       "</style>\n",
       "<table border=\"1\" class=\"dataframe\">\n",
       "  <thead>\n",
       "    <tr style=\"text-align: right;\">\n",
       "      <th></th>\n",
       "      <th>Category</th>\n",
       "      <th>Message</th>\n",
       "      <th>number of char</th>\n",
       "    </tr>\n",
       "  </thead>\n",
       "  <tbody>\n",
       "    <tr>\n",
       "      <th>0</th>\n",
       "      <td>0</td>\n",
       "      <td>K Im leaving soon be there a little after 9</td>\n",
       "      <td>45</td>\n",
       "    </tr>\n",
       "    <tr>\n",
       "      <th>1</th>\n",
       "      <td>0</td>\n",
       "      <td>No Yes please Been swimming</td>\n",
       "      <td>30</td>\n",
       "    </tr>\n",
       "    <tr>\n",
       "      <th>2</th>\n",
       "      <td>0</td>\n",
       "      <td>It took Mr owl 3 licks</td>\n",
       "      <td>22</td>\n",
       "    </tr>\n",
       "    <tr>\n",
       "      <th>3</th>\n",
       "      <td>0</td>\n",
       "      <td>Its going goodno problembut still need little ...</td>\n",
       "      <td>102</td>\n",
       "    </tr>\n",
       "    <tr>\n",
       "      <th>4</th>\n",
       "      <td>0</td>\n",
       "      <td>K I yan jiu liao Sat we can go 4 bugis vill on...</td>\n",
       "      <td>155</td>\n",
       "    </tr>\n",
       "    <tr>\n",
       "      <th>...</th>\n",
       "      <td>...</td>\n",
       "      <td>...</td>\n",
       "      <td>...</td>\n",
       "    </tr>\n",
       "    <tr>\n",
       "      <th>4452</th>\n",
       "      <td>0</td>\n",
       "      <td>Kkgoodstudy well</td>\n",
       "      <td>23</td>\n",
       "    </tr>\n",
       "    <tr>\n",
       "      <th>4453</th>\n",
       "      <td>0</td>\n",
       "      <td>Chinatown got porridge claypot rice yam cake f...</td>\n",
       "      <td>131</td>\n",
       "    </tr>\n",
       "    <tr>\n",
       "      <th>4454</th>\n",
       "      <td>0</td>\n",
       "      <td>Hmm Dunno leh mayb a bag 4 goigng out dat is n...</td>\n",
       "      <td>116</td>\n",
       "    </tr>\n",
       "    <tr>\n",
       "      <th>4455</th>\n",
       "      <td>0</td>\n",
       "      <td>Tell me whos this pls</td>\n",
       "      <td>24</td>\n",
       "    </tr>\n",
       "    <tr>\n",
       "      <th>4456</th>\n",
       "      <td>0</td>\n",
       "      <td>You are gorgeous keep those pix cumming  thank...</td>\n",
       "      <td>54</td>\n",
       "    </tr>\n",
       "  </tbody>\n",
       "</table>\n",
       "<p>4157 rows × 3 columns</p>\n",
       "</div>"
      ],
      "text/plain": [
       "      Category                                            Message  \\\n",
       "0            0        K Im leaving soon be there a little after 9   \n",
       "1            0                        No Yes please Been swimming   \n",
       "2            0                             It took Mr owl 3 licks   \n",
       "3            0  Its going goodno problembut still need little ...   \n",
       "4            0  K I yan jiu liao Sat we can go 4 bugis vill on...   \n",
       "...        ...                                                ...   \n",
       "4452         0                                   Kkgoodstudy well   \n",
       "4453         0  Chinatown got porridge claypot rice yam cake f...   \n",
       "4454         0  Hmm Dunno leh mayb a bag 4 goigng out dat is n...   \n",
       "4455         0                              Tell me whos this pls   \n",
       "4456         0  You are gorgeous keep those pix cumming  thank...   \n",
       "\n",
       "      number of char  \n",
       "0                 45  \n",
       "1                 30  \n",
       "2                 22  \n",
       "3                102  \n",
       "4                155  \n",
       "...              ...  \n",
       "4452              23  \n",
       "4453             131  \n",
       "4454             116  \n",
       "4455              24  \n",
       "4456              54  \n",
       "\n",
       "[4157 rows x 3 columns]"
      ]
     },
     "execution_count": 40,
     "metadata": {},
     "output_type": "execute_result"
    }
   ],
   "source": [
    "spam['Message'] = spam['Message'].str.replace(r'[^\\w\\s]+', '')\n",
    "spam"
   ]
  },
  {
   "cell_type": "code",
   "execution_count": 41,
   "metadata": {},
   "outputs": [],
   "source": [
    "from sklearn.feature_extraction.text import CountVectorizer\n",
    "vectorizer = CountVectorizer()\n",
    "spam_vectorizer = vectorizer.fit_transform(spam['Message'])"
   ]
  },
  {
   "cell_type": "code",
   "execution_count": 42,
   "metadata": {},
   "outputs": [
    {
     "name": "stdout",
     "output_type": "stream",
     "text": [
      "[[0 0 0 ... 0 0 0]\n",
      " [0 0 0 ... 0 0 0]\n",
      " [0 0 0 ... 0 0 0]\n",
      " ...\n",
      " [0 0 0 ... 0 0 0]\n",
      " [0 0 0 ... 0 0 0]\n",
      " [0 0 0 ... 0 0 0]]\n"
     ]
    }
   ],
   "source": [
    "print(spam_vectorizer.toarray())  "
   ]
  },
  {
   "cell_type": "code",
   "execution_count": 43,
   "metadata": {},
   "outputs": [
    {
     "name": "stdout",
     "output_type": "stream",
     "text": [
      "['008704050406', '0089my', '0121', '01223585236', '01223585334', '0125698789', '020603', '0207', '02070836089', '02072069400', '02073162414', '02085076972', '020903', '021', '050703', '0578', '06', '060505', '061104', '07046744435', '07090201529', '07090298926', '07099833605', '071104', '07123456789', '0721072', '07732584351', '07734396839', '07742676969', '0776xxxxxxx', '07786200117', '077xxx', '078', '07801543489', '07808', '07808247860', '07808726822', '07815296484', '07821230901', '0784987', '0794674629107880867867', '0796xxxxxx', '07973788240', '07xxxxxxxxx', '0800', '08000407165', '08000776320', '08000839402', '08000930705', '08000938767', '08001950382', '08002888812', '08002986030', '08002986906', '08006344447', '0808', '08081263000', '08081560665', '0825', '0844', '08448350055', '08448714184', '0845', '08450542832', '08452810071', '08452810073', '08452810075over18s', '0870', '08700621170150p', '08701213186', '08701237397', '08701417012', '08701417012150p', '0870141701216', '087016248', '08701752560', '087018728737', '08702490080', '08702840625', '08702840625comuk', '08704439680', '08704439680tscs', '08706091795', '0870737910216yrs', '08707500020', '08707509020', '0870753331018', '08707808226', '08708034412', '08709222922', '0870k', '087104711148', '08712101358', '0871212025016', '08712300220', '087123002209am7pm', '08712317606', '08712400200', '08712400603', '08712402050', '08712402578', '08712402779', '08712402902', '08712404000', '08712405020', '08712405022', '08712460324', '08712460324nat', '08712466669', '0871277810710pmin', '0871277810810', '087143423992stop', '087147123779am7pm', '08714712379', '08714712388', '08714712394', '08714712412', '08714714011', '08714719523', '08715203028', '08715203649', '08715203652', '08715203685', '08715203694', '08715205273', '08715500022', '08715705022', '08717111821', '08717168528', '08717205546', '08717507382', '08717507711', '08717509990', '08717890890150', '08717898035', '08718720201', '08718723815', '08718725756', '08718726270150gbpmtmsg18', '08718726970', '08718726978', '087187272008', '08718727870', '08718729758', '08718730666', '08718738001', '08718738002', '08718738034', '08719180219', '08719180248', '08719181259', '08719181513', '08719839835', '08719899217', '08719899229', '08719899230', '09041940223', '09050000301', '09050000460', '09050000555', '09050000878', '09050000928', '09050001295', '09050001808', '09050003091', '09050005321', '09050090044', '09050280520', '09053750005', '09056242159', '09057039994', '09058091854', '09058091870', '09058094454', '09058094455', '09058094507', '09058094565', '09058094583', '09058094594', '09058094597', '09058094599', '09058095107', '09058095201', '09058097189', '09058097218', '09058098002', '09058099801', '09061104283', '09061209465', '09061213237', '09061221061', '09061221066', '09061701444', '09061701461', '09061701851', '09061702893', '09061743386', '09061743810', '09061743811', '09061744553', '09061749602', '09061790121', '09061790125', '09063440451', '09063442151', '09063458130', '0906346330', '09064011000', '09064012160', '09064015307', '09064017295', '09064017305', '09064018838', '09064019014', '09064019788', '09065069120', '09065171142stopsms08', '09065171142stopsms08718727870150ppm', '09065174042', '09065394514', '09065394973', '09065989180', '09065989182', '09066350750', '09066358152', '09066358361', '09066361921', '09066362206', '09066362220', '09066362231', '09066364311', '09066364589', '09066368327', '09066368470', '09066380611', '09066382422', '09066612661', '09066649731from', '09066660100', '09071512433', '09077818151', '09090204448', '09090900040', '09094100151', '09094646631', '09094646899', '09095350301', '09099725823', '09099726395', '09099726429', '09099726481', '09701213186', '0anetworks', '10', '100', '1000', '10000', '100000', '1000s', '100psms', '100s', '1010', '1013', '1030', '10803', '10am', '10am7pm', '10am9pm', '10k', '10p', '10pmin', '10ppm', '10th', '11', '1120', '113', '11414', '1146', '1148', '118pmsg', '11mths', '12', '12000pes', '1205', '121', '1225', '1230', '1250', '125gift', '128', '12hours', '12hrs', '12mths', '12price', '13', '130', '131004', '1327', '13404', '140', '1405', '140ppm', '145', '1450', '146tf150p', '150', '1500', '150ea', '150msg', '150p', '150pday', '150perweeksub', '150perwksub', '150pm', '150pmeg', '150pmin', '150pmmorefrommobile2bremovedmobypobox734ls27yf', '150pmsg', '150pmsgrcvdhgsuite3422landsroww1j6hl', '150pmt', '150pmtmsg', '150pmtmsgrcvd18', '150ppermesssubscription', '150ppm', '150ppmsg', '150prcvd', '150psms', '150ptext', '150ptone', '150pwk', '150wk', '1526', '153', '15pmin', '16', '1680', '169', '16only', '177', '18', '180', '181104', '1843', '186150morefrmmob', '18only', '18ptxt', '18yrs', '195', '1956669', '1appledayno', '1childish', '1cup', '1da', '1er', '1his', '1hr', '1lemondayno', '1million', '1minmobsmorelkpobox177hp51fl', '1month', '1pm', '1s', '1st', '1st4terms', '1stchoicecouk', '1tulsi', '1u', '1unbreakable', '1winaweek', '1winawk', '1x150pwk', '1yf', '20', '200', '2000', '20000', '2003', '2004', '2005', '2006', '2007', '2025050', '20f', '20m12aq', '20p', '20pmin', '21', '211104', '21870000hi', '21m', '21st', '22', '220cm2', '23', '2309', '230ish', '24', '247mp', '24hrs', '24m', '25', '250', '250k', '255', '25f', '25p', '260305', '261104', '2667', '26th', '2703', '27603', '28', '285', '28days', '28th', '28thfebtcs', '290305', '29100', '29m', '2b', '2bold', '2c', '2day', '2docdplease', '2end', '2exit', '2ez', '2getha', '2geva', '2go', '2godid', '2gthr', '2i', '2im', '2marrow', '2moro', '2morow', '2morro', '2morrow', '2mro', '2mrw', '2mwen', '2naughty', '2nd', '2nhite', '2nights', '2nite', '2nitetell', '2optout', '2optoutd3wv', '2p', '2police', '2px', '2rcv', '2stoptx', '2stoptxt', '2u', '2untamed', '2watershd', '2waxsto', '2when', '2wks', '2wt', '2years', '2yr', '2yrs', '30', '300', '3000', '300603', '3030', '30pptxt', '30s', '30th', '31', '3100', '310303', '311004', '31pmsg150p', '3230', '32323', '326', '32f', '330', '3350', '3365', '350', '3510i', '35p', '3650', '36504', '3680', '3680offer', '373', '3750', '391784', '3aj', '3cover', '3d', '3db', '3g', '3gbp', '3lp', '3miles', '3mins', '3mobile', '3pound', '3qxj9', '3rd', '3sentiment', '3ss', '3u', '3unkempt', '3uz', '3wife', '3wk', '3wks', '3xx', '40', '400', '400minscall', '402', '4041', '40411', '40533', '40gb', '415', '41685', '41782', '420', '4217', '42810', '430', '434', '44', '4403ldnw1a7rw18', '447797706009', '447801259231', '447per', '448712404000please', '449050000301', '449month', '45', '450', '450p', '450ppw', '450pw', '45239', '46', '47', '4742', '48', '4882', '48922', '49557', '4a', '4brekkie', '4cook', '4d', '4eva', '4few', '4get', '4give', '4got', '4goten', '4info', '4jx', '4lux', '4mths', '4my', '4press', '4rowdy', '4some1', '4tctxt', '4th', '4thnovbehind', '4txt120p', '4u', '4ui', '4utxt', '4w', '4ward', '4wrd', '50', '500', '5000', '500000', '50500', '50award', '50p', '50s', '515pm', '5249', '526', '528', '530', '532', '54', '542', '545', '5903', '5free', '5ful', '5gardener', '5gently', '5ish', '5k', '5min', '5mls', '5month', '5pm', '5th', '5wb', '5we', '5wq', '5years', '600', '6031', '60400thousadi', '60p', '60pmin', '61200', '61610', '62220cncl', '6230', '62468', '630', '645', '645pm', '650', '6669', '68866', '69101', '69200', '69669', '69696', '69855', '6986618', '69876', '69888', '69888nyt', '69969', '69988', '6days', '6hl', '6housemaid', '6hrs', '6missed', '6months', '6pm', '6romantic', '6th', '6wu', '6zf', '700', '71', '725', '7250', '7250i', '730', '730ish', '730pm', '731', '74355', '750', '75000', '7548', '7634', '7684', '7732584351', '78', '786', '7876150ppm', '78pmin', '79', '7am', '7cfca1a', '7children', '7ish', '7oz', '7pm', '7shy', '7th', '7ws', '7zs', '800', '8000930705', '80062', '8007', '80082', '80086', '80122300pwk', '80160', '80182', '8027', '80488', '80488biz', '80608', '8077', '80878', '81010', '81151', '81303', '81618', '816183', '82242', '82277', '82277unsub', '82324', '82468', '830', '83021', '83049', '83110', '83222', '83332please', '83338', '83355', '83370', '83383', '83435', '83600', '84025', '84122', '84128', '84199', '84484', '85', '850', '85023', '85069', '85233', '8552', '86021', '861', '863', '864233', '86688', '87021', '87066', '87070', '87077', '87121', '87131', '87239', '87575', '8800', '88039', '88039skilgmetscs087147403231winawkage16150perwksub', '88066', '88088', '88222', '8830', '88600', '8883', '88888', '89123', '89545', '89555', '89693', '89938', '8am', '8attractive', '8ball', '8hr', '8lb', '8neighbour', '8pm', '8th', '8wp', '900', '9061100010', '9153', '924', '92h', '930', '945', '946', '95pax', '96', '9ae', '9am', '9am11pm', '9funny', '9ja', '9pm', '9t', '9th', '9yt', '____', 'a150', 'a21', 'a30', 'a50', 'aah', 'aaniye', 'aaooooright', 'aathilove', 'aathiwhere', 'abbey', 'abdomen', 'abeg', 'abelu', 'aberdeen', 'abi', 'abiola', 'abj', 'able', 'abnormally', 'about', 'above', 'abroad', 'absolutely', 'abt', 'abta', 'aburo', 'abuse', 'abusers', 'ac', 'academic', 'acc', 'accenture', 'accept', 'access', 'accidant', 'accident', 'accidentally', 'accommodation', 'accomodate', 'accordin', 'accordingly', 'account', 'accounting', 'accounts', 'achanammarakheshqatar', 'ache', 'achieve', 'acid', 'acl03530150pm', 'acnt', 'acoentry41', 'across', 'acsmsrewards', 'act', 'acted', 'actin', 'acting', 'action', 'activ8', 'activate', 'active', 'activities', 'actor', 'actual', 'actually', 'acwicmb3cktz8r74', 'ad', 'adam', 'add', 'addamsfa', 'added', 'addicted', 'addie', 'adding', 'address', 'addressull', 'adds', 'adewale', 'adi', 'adjustable', 'admin', 'administrator', 'admirer', 'admission', 'admit', 'admiti', 'adore', 'adoring', 'adress', 'adrink', 'ads', 'adsense', 'adult', 'adults', 'advance', 'adventure', 'adventuring', 'advice', 'advise', 'advising', 'advisors', 'aeronautics', 'aeroplane', 'afew', 'affair', 'affairs', 'affection', 'affidavit', 'afghanistan', 'afraid', 'africa', 'african', 'aft', 'after', 'afternoon', 'afternoons', 'aftr', 'ag', 'again', 'againcall', 'againloving', 'against', 'agalla', 'age', 'age16', 'age16150ppermesssubscription', 'age23', 'agency', 'agent', 'ages', 'agesring', 'agidhane', 'aging', 'ago', 'agocusoon', 'agree', 'agreen', 'ah', 'aha', 'ahead', 'ahgee', 'ahhh', 'ahhhhjust', 'ahmad', 'ahnow', 'ahold', 'ahsen', 'aids', 'aig', 'aight', 'aint', 'air', 'air1', 'airport', 'airtel', 'aiya', 'aiyah', 'aiyar', 'aiyo', 'ajith', 'ak', 'aka', 'akonlonely', 'al', 'alaikkumpride', 'alaipayuthe', 'albi', 'album', 'albumquite', 'alcohol', 'aldrine', 'alert', 'alerts', 'aletter', 'alex', 'alexs', 'alfie', 'algarve', 'algebra', 'algorithms', 'ali', 'alian', 'alibi', 'alive', 'alivebetter', 'all', 'allah', 'allahmeet', 'allahrakhesh', 'allalo', 'allday', 'alle', 'allo', 'allow', 'allowed', 'allows', 'almost', 'alone', 'along', 'alot', 'already', 'alright', 'alrightokay', 'alrite', 'also', 'alter', 'alternativehope', 'although', 'alwa', 'always', 'alwys', 'am', 'amanda', 'amazing', 'ambrithmaduraimet', 'american', 'ami', 'amigos', 'amk', 'ammo', 'amnow', 'among', 'amongst', 'amore', 'amount', 'amp', 'amplikater', 'amrca', 'amrita', 'ams', 'amt', 'amused', 'amy', 'an', 'ana', 'analysis', 'anand', 'and', 'anderson', 'andor', 'andre', 'andrewsboy', 'andros', 'angry', 'animation', 'anjolas', 'anna', 'annie', 'anniversary', 'annoncement', 'announced', 'announcement', 'annoyin', 'annoying', 'anonymous', 'anot', 'another', 'ans', 'ansr', 'answer', 'answered', 'answering', 'answers', 'answr', 'antelope', 'anthony', 'anti', 'antibiotic', 'any', 'anybody', 'anybodys', 'anymore', 'anyone', 'anyones', 'anythin', 'anything', 'anythingtomorrow', 'anytime', 'anyway', 'anyways', 'anywhere', 'aom', 'apart', 'apartment', 'apes', 'apeshit', 'aphexs', 'apnt', 'apo', 'apologetic', 'apologise', 'apologize', 'apology', 'app', 'apparently', 'appeal', 'appear', 'appendix', 'applebees', 'applespairsall', 'application', 'apply', 'applyed', 'applying', 'appointment', 'appointments', 'appreciate', 'appreciated', 'approaches', 'approaching', 'appropriate', 'approve', 'approved', 'approx', 'apps', 'appt', 'appy', 'april', 'aproach', 'apt', 'aptitude', 'aquarius', 'ar', 'arab', 'arabian', 'arcade', 'archive', 'ard', 'ardé', 'are', 'area', 'arent', 'arestaurant', 'aretaking', 'argentina', 'argh', 'argue', 'arguing', 'argument', 'arguments', 'aries', 'arise', 'arises', 'arithmetic', 'arm', 'armand', 'armands', 'armenia', 'arms', 'arng', 'arngd', 'arnt', 'around', 'aroundn', 'arpraveesh', 'arrange', 'arranging', 'arrested', 'arrival', 'arrive', 'arrived', 'arsenal', 'art', 'artists', 'arts', 'arty', 'arun', 'as', 'asap', 'asda', 'ashes', 'ashley', 'ashleys', 'ashwini', 'asian', 'ask', 'askd', 'asked', 'askin', 'asking', 'asks', 'aslamalaikkuminsha', 'asleep', 'ass', 'assessment', 'assistance', 'associate', 'assume', 'assumed', 'astne', 'astrology', 'astronomer', 'asus', 'at', 'ate', 'athletic', 'athome', 'atlanta', 'atleast', 'atm', 'atrocious', 'attach', 'attached', 'attempt', 'atten', 'attend', 'attended', 'attending', 'attention', 'attitude', 'attractioni', 'attracts', 'attributed', 'atyour', 'auction', 'auctionpunj', 'audiitions', 'audition', 'audrey', 'audreys', 'audrie', 'august', 'aunt', 'aunts', 'aunty', 'aust', 'australia', 'authorise', 'auto', 'autocorrect', 'av', 'ava', 'available', 'availablei', 'availablethey', 'avalarr', 'avatar', 'avble', 'ave', 'avenge', 'avent', 'avenue', 'avin', 'avo', 'avoid', 'avoids', 'await', 'awaiting', 'awake', 'award', 'awarded', 'away', 'awesome', 'awkward', 'aww', 'awww', 'ax', 'axis', 'ay', 'ayn', 'ayo', 'b4', 'b4190604', 'b4u', 'ba', 'ba128nnfwfly150ppm', 'baaaaabe', 'babe', 'babeprobpop', 'babes', 'babesozi', 'babies', 'baby', 'babygoodbye', 'babyhope', 'babysit', 'babysitting', 'bac', 'back', 'backdoor', 'bad', 'badly', 'badrith', 'bag', 'bagi', 'bags', 'bahamas', 'baig', 'bailiff', 'bak', 'bakra', 'bakrid', 'balance', 'ball', 'baller', 'balloon', 'balls', 'bambling', 'band', 'bandages', 'bang', 'bangb', 'bangbabes', 'bani', 'bank', 'banks', 'banned', 'banneduk', 'banter', 'bao', 'bar', 'barbie', 'barcelona', 'bare', 'barely', 'bari', 'barkleys', 'barmed', 'barolla', 'barred', 'barrel', 'barring', 'bars', 'base', 'bash', 'basic', 'basically', 'basketball', 'baskets', 'basqihave', 'bat', 'batch', 'bath', 'bathe', 'bathing', 'batsman', 'battery', 'battle', 'bay', 'bb', 'bbc', 'bbdeluxe', 'bbdpooja', 'bblue', 'bbs', 'bc', 'bcaz', 'bck', 'bcm', 'bcm1896wc1n3xx', 'bcm4284', 'bcmsfwc1n3xx', 'bcoz', 'bcozi', 'bcum', 'bcums', 'bcz', 'bday', 'be', 'beach', 'beads', 'bear', 'bears', 'beatings', 'beautiful', 'beautifulmay', 'beauty', 'bec', 'becaus', 'because', 'becausethey', 'become', 'becomes', 'becoz', 'becz', 'bed', 'bedreal', 'bedrm', 'bedrm900', 'bedroom', 'bedroomlove', 'beeen', 'beehoon', 'been', 'beendropping', 'beer', 'beerage', 'beerrs', 'beers', 'befor', 'before', 'beforehand', 'beforewent', 'beg', 'begging', 'begin', 'begins', 'begun', 'behave', 'behind', 'bein', 'being', 'believe', 'belive', 'bell', 'belligerent', 'belly', 'belongs', 'belovd', 'beloved', 'belt', 'ben', 'bend', 'beneficiary', 'benefits', 'bennys', 'bergkamp', 'best', 'best1', 'bestcongrats', 'bestrply', 'bet', 'beta', 'beth', 'betta', 'better', 'bettersn', 'between', 'beverage', 'bevieswaz', 'beware', 'beyond', 'bf', 'bffs', 'bham', 'bian', 'biatch', 'bid', 'bids', 'big', 'bigger', 'biggest', 'bike', 'bill', 'billed', 'billing', 'billion', 'bills', 'billy', 'bilo', 'bimbo', 'bin', 'biola', 'biolas', 'bird', 'birds', 'birla', 'biro', 'birth', 'birthdate', 'birthday', 'bishan', 'bit', 'bitch', 'bitching', 'bite', 'bites', 'bits', 'bk', 'black', 'blackand', 'blackberry', 'blacko', 'blakes', 'blame', 'blank', 'blanked', 'blanket', 'blankets', 'blastin', 'bleak', 'bleh', 'bless', 'blessed', 'blessing', 'blessings', 'blind', 'block', 'blocked', 'blog', 'blogging', 'bloke', 'blokes', 'blonde', 'bloo', 'blood', 'bloodblood', 'bloodsend', 'bloody', 'bloomberg', 'bloombergcom', 'blow', 'blown', 'blue', 'bluetooth', 'bluff', 'blur', 'bluray', 'bmw', 'boat', 'boatin', 'body', 'boggy', 'bognor', 'bold', 'bold2', 'bollox', 'boltblue', 'bomb', 'bone', 'bong', 'bonus', 'boo', 'boobs', 'book', 'booked', 'bookedthe', 'booking', 'bookmark', 'books', 'bookshelf', 'boooo', 'boost', 'booty', 'bootydelious', 'borderline', 'bored', 'borin', 'boring', 'born', 'bornplease', 'borrow', 'boss', 'boston', 'bot', 'both', 'bother', 'bottle', 'bottom', 'bought', 'boughtbraindancea', 'boundaries', 'bout', 'bowa', 'bowl', 'bowls', 'box', 'box1146', 'box139', 'box177', 'box245c2150pm', 'box334', 'box334sk38ch', 'box385', 'box39822', 'box403', 'box420', 'box42wr29c', 'box61m60', 'box95qu', 'box97n7qp', 'boy', 'boye', 'boyf', 'boyfriend', 'boys', 'boytoy', 'bpo', 'brah', 'brain', 'brainless', 'brainy', 'brand', 'brandy', 'bras', 'brats', 'braved', 'bray', 'brb', 'brdget', 'bread', 'breadstick', 'break', 'breaker', 'breakfast', 'breaks', 'breath', 'breathe', 'breather', 'breeze', 'breezy', 'bridgwater', 'bright', 'brighten', 'brilliant', 'brilliant1thingi', 'brilliantly', 'brin', 'bring', 'bringing', 'brings', 'bristol', 'british', 'britney', 'bro', 'broad', 'broadband', 'broke', 'brolly', 'bros', 'broth', 'brothas', 'brother', 'brothers', 'brought', 'brownie', 'brownies', 'browse', 'browsin', 'bruce', 'brum', 'bruv', 'bslvyl', 'bsn', 'bsnl', 'bstfrnd', 'bt', 'bthere', 'bthmm', 'btnational', 'btnationalrate', 'btooth', 'btw', 'btwn', 'bucks', 'bud', 'buddy', 'budget', 'buen', 'buff', 'buffet', 'bugis', 'build', 'building', 'bulbs', 'bull', 'bullshit', 'bunch', 'bundle', 'bunkers', 'buns', 'burger', 'burgundy', 'burial', 'burn', 'burning', 'burns', 'burnt', 'burrito', 'bus', 'buses', 'busetop', 'business', 'busty', 'busy', 'busyi', 'but', 'butt', 'buttons', 'buy', 'buyer', 'buyers', 'buying', 'buz', 'buzy', 'buzz', 'buzzzz', 'bw', 'bx', 'bx420', 'bx420ip45we', 'by', 'byatch', 'bye', 'byleafcutter', 'c52', 'cab', 'cabin', 'cable', 'cafe', 'cage', 'cake', 'caken', 'cakes', 'cal', 'calicut', 'california', 'calis', 'call', 'call09050000327', 'call2optout4qf2', 'call2optout674', 'call2optoutf4q', 'call2optouthf8', 'call2optoutj', 'call2optoutj5q', 'call2optoutlf56', 'call2optoutn9dx', 'call2optoutyhl', 'callback', 'callcost', 'callcoz', 'calld', 'calldrove', 'called', 'caller', 'callers', 'callertune', 'callfreefone', 'callin', 'calling', 'callingforgot', 'callon', 'calls', 'calls150ppm', 'calls1minmobsmorelkpobox177hp51fl', 'calls1minmoremobsemspobox45po139wa', 'callsmessagesmissed', 'callurgent', 'calm', 'cam', 'camcorder', 'came', 'camera', 'cameravideo', 'camp', 'campus', 'can', 'canada', 'canal', 'canary', 'cancel', 'canceled', 'cancelled', 'cancer', 'candont', 'canname', 'cannot', 'cannt', 'cant', 'cantdo', 'canteen', 'capacity', 'capital', 'cappuccino', 'caps', 'captain', 'captaining', 'car', 'card', 'cardiff', 'care', 'careabout', 'cared', 'career', 'careful', 'carefully', 'careinsha', 'careless', 'carente', 'cares', 'careswt', 'careumma', 'caring', 'carlin', 'carlos', 'carly', 'caroline', 'carpark', 'carry', 'carryin', 'cars', 'carso', 'cartons', 'cartoon', 'case', 'cash', 'cashbalance', 'cashed', 'cashin', 'cashto', 'casing', 'cast', 'casting', 'castor', 'casualty', 'cat', 'catch', 'catches', 'catching', 'caught', 'cause', 'causing', 'caveboy', 'cbe', 'cc', 'cc100pmin', 'ccna', 'cd', 'cdgt', 'cds', 'ceiling', 'celeb', 'celebrate', 'celebration', 'cell', 'center', 'centre', 'century', 'cer', 'cereals', 'ceri', 'certainly', 'certificate', 'cha', 'chachi', 'chain', 'challenge', 'challenging', 'champlaxigating', 'champneys', 'chance', 'chances', 'change', 'changed', 'changes', 'changing', 'channel', 'chaps', 'chapter', 'character', 'characters', 'charge', 'charged', 'charges', 'charity', 'charlie', 'charming', 'chart', 'charts', 'chase', 'chasing', 'chastity', 'chat', 'chatim', 'chatlines', 'chatting', 'cheap', 'cheaper', 'cheat', 'cheating', 'chechi', 'check', 'checkboxes', 'checked', 'checkin', 'checking', 'checkmate', 'checkup', 'cheek', 'cheer', 'cheers', 'cheery', 'cheese', 'cheetos', 'chef', 'chennai', 'chennaii', 'cheque', 'cherish', 'chess', 'chest', 'chex', 'cheyyamoand', 'chez', 'chg', 'chgs', 'chic', 'chick', 'chicken', 'chickened', 'chief', 'chik', 'chikku', 'chikkuali', 'chikkub', 'chikkudb', 'chikkugoing', 'chikkuil', 'chikkuk', 'chikkusimple', 'chikkuwat', 'child', 'childish', 'children', 'childs', 'chile', 'chill', 'chillaxin', 'chillin', 'china', 'chinatown', 'chinchillas', 'chinese', 'chinky', 'chip', 'chitchat', 'chk', 'chloe', 'chocolate', 'choice', 'choose', 'chop', 'chords', 'chores', 'chosen', 'chrgd50p', 'christ', 'christmas', 'christmasmerry', 'christmassy', 'chuck', 'chuckin', 'church', 'ciao', 'cin', 'cine', 'cinema', 'citizen', 'city', 'citylink', 'cl', 'claim', 'claimcode', 'claims', 'claire', 'clarification', 'clas', 'clash', 'class', 'classes', 'classic', 'classmates', 'claypot', 'cld', 'clean', 'cleaning', 'clear', 'cleared', 'clearer', 'clearing', 'clearly', 'clever', 'click', 'clip', 'clock', 'clocks', 'clos1', 'close', 'closeby', 'closed', 'closedincluding', 'closer', 'closes', 'closingdate040902', 'cloth', 'clothes', 'cloud', 'clover', 'club', 'club4', 'club4mobilescom', 'clue', 'cm', 'cme', 'cmon', 'cn', 'cnl', 'cnn', 'co', 'coach', 'coast', 'coaxing', 'cocacola', 'cochin', 'cock', 'cocksuckers', 'coco', 'code', 'code4xx26', 'coffee', 'coherently', 'coimbatore', 'coincidence', 'coins', 'colany', 'cold', 'collages', 'colleagues', 'collect', 'collected', 'collecting', 'collection', 'colleg', 'college', 'color', 'colour', 'colourful', 'colours', 'com', 'comb', 'combination', 'combine', 'come', 'comedy', 'comei', 'comes', 'comfey', 'comfort', 'comin', 'coming', 'comingdown', 'command', 'comment', 'commercial', 'commit', 'common', 'community', 'comp', 'companies', 'companion', 'company', 'compare', 'compass', 'compensation', 'competition', 'complacent', 'complain', 'complaining', 'complaint', 'complementary', 'complete', 'completed', 'completely', 'completes', 'completing', 'complexities', 'complimentary', 'compliments', 'compofstuff', 'compulsory', 'computational', 'computer', 'computerless', 'computers', 'comuk220cm2', 'concentrate', 'concentrating', 'concern', 'concert', 'conclusion', 'condition', 'conditions', 'conducts', 'conected', 'conference', 'confidence', 'configure', 'confirm', 'confirmd', 'confirmdeny', 'confirmed', 'conform', 'confused', 'confuses', 'congrats', 'congratulations', 'connect', 'connected', 'connection', 'connections', 'consensus', 'conserve', 'consider', 'considering', 'consistently', 'console', 'constant', 'constantly', 'contact', 'contacted', 'contacts', 'contains', 'content', 'contented', 'contention', 'contents', 'continent', 'continue', 'continued', 'contract', 'contribute', 'control', 'convenience', 'conversations', 'converted', 'convey', 'convince', 'convinced', 'convincing', 'convincingjust', 'cook', 'cooked', 'cookies', 'cooking', 'cool', 'coolmob', 'cooped', 'cooperative', 'copied', 'copies', 'coping', 'cops', 'copy', 'corect', 'cornwall', 'corporation', 'corrct', 'correct', 'correction', 'correctionor', 'correctly', 'corrupt', 'corvettes', 'cos', 'cosign', 'cost', 'cost150pm', 'costa', 'costing', 'costs', 'costume', 'couch', 'cougarpen', 'coughing', 'could', 'coulda', 'couldnt', 'count', 'countin', 'countinlots', 'country', 'counts', 'coupla', 'couple', 'courage', 'courageous', 'course', 'court', 'courtroom', 'cousin', 'cover', 'covers', 'coz', 'cozy', 'cps', 'cr01327bt', 'cr9', 'crab', 'crack', 'craigslist', 'crammed', 'cramps', 'crap', 'crash', 'crashed', 'crave', 'craziest', 'crazy', 'cream', 'created', 'creative', 'creativity', 'cred', 'credit', 'credited', 'credits', 'creep', 'creepy', 'cribbs', 'cricket', 'cricketer', 'crickiting', 'cried', 'crisisspk', 'cro1327', 'crore', 'cross', 'crossing', 'crowd', 'croydon', 'crucial', 'crucify', 'cruise', 'cruisin', 'crushes', 'cry', 'crying', 'cs', 'csh11', 'cst', 'ctagg', 'ctargg', 'cthen', 'ctla', 'cttargg', 'ctter', 'cttergg', 'cu', 'cuck', 'cud', 'cuddle', 'cuddled', 'cuddling', 'cudnt', 'culdnt', 'cultures', 'cum', 'cumin', 'cumming', 'cup', 'cupboard', 'cuppa', 'curfew', 'current', 'currently', 'curry', 'curtsey', 'cust', 'custcare', 'custcare08718720201', 'custom', 'customer', 'customers', 'customersqueriesnetvisionukcom', 'cut', 'cute', 'cutefrnd', 'cutest', 'cutie', 'cutter', 'cutting', 'cuz', 'cw25wx', 'cya', 'cyclists', 'da', 'daal', 'daalways', 'dabbles', 'dabooks', 'dad', 'daddy', 'dado', 'dads', 'dahe', 'dahow', 'dai', 'daily', 'dajst', 'dammit', 'damn', 'dan', 'danalla', 'dancce', 'dance', 'dancin', 'dancing', 'dane', 'dang', 'danger', 'dangerous', 'dao', 'dare', 'dark', 'darker', 'darkest', 'darkness', 'darlin', 'darling', 'darlings', 'darren', 'dartboard', 'das', 'dasara', 'dat', 'data', 'date', 'datebox1282essexcm61xn', 'dates', 'dating', 'datingi', 'datoday', 'dats', 'datz', 'daurgent', 'dave', 'dawhats', 'dawhere', 'dawns', 'day', 'day2', 'day2find', 'dayhas', 'days', 'dayshe', 'daysso', 'dayswill', 'daytime', 'dayu', 'daywith', 'dd', 'de', 'dead', 'deadwell', 'deal', 'dealer', 'dealers', 'dealfarm', 'dealing', 'deals', 'deam', 'dear', 'dear1', 'dearer', 'deari', 'dearloving', 'dearly', 'dearrakhesh', 'dearregret', 'dearslp', 'deary', 'death', 'debating', 'december', 'decide', 'decided', 'deciding', 'decimal', 'decision', 'decisions', 'deck', 'decking', 'declare', 'decorating', 'dedicate', 'dedicated', 'deep', 'deepak', 'deepest', 'deer', 'deeraj', 'def', 'defeat', 'defer', 'definite', 'definitely', 'definitly', 'defo', 'degree', 'degrees', 'dehydrated', 'del', 'delay', 'delayed', 'delete', 'deleted', 'delhi', 'delicious', 'deliver', 'delivered', 'deliveredtomorrow', 'delivery', 'deltomorrow', 'deluxe', 'dem', 'demand', 'den', 'dena', 'dengra', 'denis', 'dentist', 'dentists', 'denying', 'department', 'dependable', 'dependents', 'depends', 'deposit', 'deposited', 'depressed', 'dept', 'der', 'derek', 'derp', 'describe', 'desert', 'deserve', 'desires', 'desk', 'desparate', 'desparately', 'desperate', 'despite', 'dessert', 'destination', 'destiny', 'detail', 'detailed', 'details', 'determine', 'determined', 'deus', 'device', 'devouring', 'dey', 'deyi', 'dha', 'dhina', 'dhoni', 'dhorte', 'di', 'dialling', 'dialogue', 'diamonds', 'diapers', 'dice', 'dick', 'dict', 'dictionary', 'did', 'diddy', 'didnt', 'didt', 'die', 'died', 'diesel', 'diet', 'dieting', 'diff', 'differ', 'differbe', 'difference', 'differences', 'different', 'difficult', 'difficulties', 'dificult', 'digi', 'digital', 'digits', 'dignity', 'dileepthank', 'dime', 'dimension', 'din', 'dine', 'dined', 'dinero', 'ding', 'dining', 'dinner', 'dinnermsg', 'dint', 'dippeditinadew', 'direct', 'directly', 'director', 'directors', 'dirt', 'dirty', 'dis', 'disagreeable', 'disappeared', 'disappointment', 'disaster', 'disasters', 'disastrous', 'disclose', 'disconnect', 'discount', 'discreet', 'discuss', 'discussed', 'diseases', 'diskyou', 'dislikes', 'dismissial', 'display', 'distance', 'distract', 'disturb', 'disturbancemight', 'disturbing', 'ditto', 'divert', 'division', 'divorce', 'diwali', 'dizzamn', 'dizzee', 'dled', 'dlf', 'dload', 'dnt', 'do', 'dob', 'dobby', 'dobbys', 'doc', 'dock', 'docks', 'docs', 'doctor', 'doctors', 'documents', 'dodgey', 'does', 'doesnt', 'dog', 'dogbreath', 'dogg', 'doggin', 'dogging', 'doggy', 'dogs', 'dogwood', 'doin', 'doinat', 'doing', 'doinghow', 'doingwhat', 'dointerested', 'doke', 'dokey', 'dollar', 'dollars', 'dolld', 'dolls', 'dom', 'domain', 'don', 'donate', 'done', 'donewant', 'donno', 'dont', 'dontcha', 'dontignore', 'dontplease', 'donyt', 'door', 'doors', 'dorm', 'dormitory', 'dorothykiefercom', 'dose', 'dosomething', 'dot', 'double', 'doublefaggot', 'doubles', 'doug', 'dough', 'down', 'download', 'downloaded', 'downloads', 'downon', 'downs', 'downstem', 'dozens', 'dps', 'dr', 'dracula', 'drama', 'dramatic', 'draw', 'drawplease', 'draws', 'dream', 'dreamlove', 'dreams', 'dreamsmuah', 'dreamstake', 'dreamsu', 'dreamz', 'dress', 'dressed', 'dresser', 'drink', 'drinkin', 'drinking', 'drinkpa', 'drinks', 'drive', 'driver', 'drivin', 'driving', 'drizzling', 'drms', 'drop', 'dropped', 'drove', 'drpd', 'drug', 'drugdealer', 'drugs', 'drum', 'drunk', 'drunkard', 'drunken', 'dry', 'dryer', 'dsnt', 'dt', 'dual', 'dub', 'dubsack', 'duchess', 'ducking', 'dude', 'dudes', 'dudette', 'due', 'duffer', 'dull', 'dumb', 'dump', 'dun', 'dungerees', 'dunno', 'duo', 'durban', 'durham', 'during', 'duvet', 'dvd', 'dwn', 'dying', 'dysentry', 'e14', 'each', 'eachother', 'ear', 'earlier', 'earlierwe', 'earliest', 'early', 'earn', 'earning', 'ears', 'earth', 'earthsofa', 'easier', 'easiest', 'easily', 'eastenders', 'easter', 'easy', 'eat', 'eaten', 'eatin', 'eating', 'ebay', 'ec2a', 'echo', 'ecstacy', 'ecstasy', 'edge', 'edhae', 'edison', 'edition', 'edrunk', 'education', 'educational', 'edward', 'edwards', 'eek', 'eerie', 'eerulli', 'effect', 'effects', 'efficient', 'eg', 'egbon', 'egg', 'eggpotato', 'eggs', 'eggspert', 'ego', 'eh', 'eh74rr', 'eight', 'eighth', 'eightish', 'eire', 'either', 'el', 'ela', 'elaborate', 'elaine', 'elama', 'elaya', 'eldest', 'election', 'elections', 'electricity', 'eleven', 'elliot', 'ello', 'else', 'elsewhere', 'em', 'email', 'emailed', 'embarassed', 'embarrassed', 'embassy', 'emergency', 'emerging', 'emigrated', 'emily', 'emotion', 'employee', 'employers', 'empty', 'en', 'enc', 'end', 'ended', 'ending', 'endless', 'endowed', 'ends', 'enemies', 'enemy', 'energy', 'eng', 'engagement', 'engalnd', 'engin', 'england', 'english', 'enjoy', 'enjoyed', 'enjoyin', 'enjoying', 'enna', 'ennal', 'enough', 'enter', 'entered', 'enters', 'entertaining', 'entey', 'entire', 'entirely', 'entitled', 'entropication', 'entry', 'enuff', 'envelope', 'epi', 'epsilon', 'equally', 'er', 'ericson', 'ericsson', 'erm', 'erotic', 'err', 'error', 'errors', 'ertini', 'eruku', 'erupt', 'erything', 'esaplanade', 'escalator', 'escape', 'ese', 'eshxxxxxxxxxxx', 'especially', 'espell', 'esplanade', 'essay', 'essential', 'establish', 'eta', 'etc', 'ethreats', 'ettans', 'euro', 'euro2004', 'eurodisinc', 'europe', 'evaluation', 'evaporated', 'eve', 'eveb', 'evei', 'even', 'evening', 'evenings', 'event', 'events', 'eventually', 'ever', 'every', 'every1', 'everybody', 'everybodys', 'everyday', 'everyone', 'everyones', 'everyso', 'everythin', 'everything', 'everytime', 'everywhere', 'evey', 'eviction', 'evil', 'evn', 'evng', 'evone', 'evr', 'evrey', 'evry', 'evry1', 'evrydy', 'ex', 'exact', 'exactly', 'exam', 'exams', 'excellent', 'except', 'excited', 'exciting', 'excuse', 'excused', 'excuses', 'exe', 'executive', 'exeter', 'exhaust', 'exhausted', 'exhibition', 'exist', 'exmpel', 'exorcism', 'exorcist', 'expect', 'expected', 'expecting', 'expensive', 'experience', 'experiencehttpwwwvouch4mecometlpdiningasp', 'expert', 'expired', 'expiredso', 'expires', 'expiry', 'explain', 'explicit', 'explicitly', 'explosive', 'express', 'expression', 'ext', 'exterminator', 'extra', 'extreme', 'exwife', 'ey', 'eye', 'eyeddont', 'eyes', 'fa', 'fab', 'faber', 'face', 'faceasssssholeeee', 'facebook', 'facilities', 'fact', 'facts', 'faded', 'faglord', 'failed', 'fails', 'fainting', 'fair', 'faith', 'faithevening', 'fake', 'fal', 'falconerf', 'fall', 'fallen', 'falling', 'falls', 'fals', 'famamus', 'family', 'familymay', 'fan', 'fancied', 'fancies', 'fancy', 'fans', 'fantasies', 'fantastic', 'fantasy', 'far', 'farm', 'farting', 'fassyole', 'fast', 'faster', 'fastest', 'fastpls', 'fat', 'fated', 'father', 'fathima', 'fats', 'fatty', 'fault', 'faultal', 'faultfed', 'fav', 'fave', 'favor', 'favour', 'favourite', 'fb', 'fear', 'feathery', 'features', 'feb', 'febapril', 'february', 'fedex', 'feed', 'feel', 'feelin', 'feeling', 'feelingood', 'feelingwavering', 'feels', 'fees', 'feet', 'fell', 'fellow', 'felt', 'female', 'feng', 'festival', 'fetch', 'fetching', 'fever', 'few', 'ffffffffff', 'ffffuuuuuuu', 'fgkslpo', 'fgkslpopw', 'fidalfication', 'field', 'fieldof', 'fiendmake', 'fifa', 'fifteen', 'fifty', 'fight', 'fighting', 'fightng', 'fights', 'figure', 'figures', 'figuring', 'file', 'files', 'fill', 'filled', 'filling', 'fills', 'film', 'films', 'filth', 'filthy', 'filthyguys', 'final', 'finalise', 'finally', 'finance', 'financial', 'find', 'finds', 'fine', 'fineabsolutly', 'fineinshah', 'finewhen', 'fingers', 'finish', 'finished', 'finishes', 'finishing', 'finns', 'fire', 'fired', 'firefox', 'fireplace', 'firesare', 'firmware', 'firsg', 'first', 'fish', 'fishhead', 'fit', 'five', 'fix', 'fixd', 'fixed', 'fixedline', 'fizz', 'flag', 'flaked', 'flaky', 'flame', 'flash', 'flat', 'flatter', 'flea', 'fletcher', 'flew', 'flies', 'flight', 'flights', 'flim', 'flip', 'flippin', 'flirt', 'flirting', 'floating', 'flood', 'floor', 'floppy', 'florida', 'flower', 'flowing', 'flurries', 'flute', 'flying', 'flyng', 'fml', 'fmyou', 'fne', 'fold', 'foley', 'folks', 'follow', 'followed', 'followin', 'following', 'fond', 'fondly', 'fone', 'foned', 'fones', 'fonin', 'food', 'fool', 'fooled', 'fools', 'foot', 'football', 'footblcrckt', 'footie', 'footprints', 'footy', 'for', 'force', 'forced', 'foregate', 'foreign', 'forever', 'forevr', 'forget', 'forgets', 'forgive', 'forgiven', 'forgot', 'forgotten', 'forgt', 'formal', 'formallypls', 'format', 'formatting', 'formclark', 'forth', 'fortune', 'forum', 'forums', 'forward', 'forwarded', 'forwarding', 'found', 'foundurself', 'four', 'fourth', 'foward', 'fowler', 'fox', 'fps', 'fr', 'fraction', 'fran', 'frankgood', 'frankie', 'franxx', 'frauds', 'freak', 'freaked', 'freaky', 'fredericksburg', 'free', 'freedom', 'freefone', 'freek', 'freely', 'freemessage', 'freemsg', 'freemsgfav', 'freemsgfeelin', 'freenokia', 'freephone', 'freeringtone', 'freeringtonereply', 'freesend', 'freezing', 'freinds', 'fren', 'french', 'frens', 'frequently', 'fresh', 'freshers', 'fret', 'fri', 'friday', 'fridayhope', 'fridays', 'fridge', 'fried', 'friend', 'friendofafriend', 'friends', 'friendship', 'friendshipmotherfatherteacherschildrens', 'friendships', 'fring', 'fringe', 'frm', 'frmcloud', 'frnd', 'frnds', 'frndship', 'frndsship', 'frndz', 'frnt', 'frog', 'frogaxel', 'from', 'fromm', 'fromwrk', 'front', 'frwd', 'frying', 'ft', 'fuck', 'fucked', 'fuckin', 'fucking', 'fuckinniceselfishdeviousbitchanywayil', 'fucks', 'fudge', 'fuelled', 'fujitsu', 'ful', 'fulfil', 'full', 'fullonsmscom', 'fumbling', 'fun', 'function', 'functions', 'fund', 'funeral', 'funk', 'funky', 'funny', 'funs', 'furniture', 'further', 'future', 'fuuuuck', 'fyi', 'g2', 'g696ga', 'gailxx', 'gain', 'gained', 'gal', 'galileo', 'gals', 'galsu', 'gam', 'game', 'games', 'gamestar', 'gandhipuram', 'ganesh', 'gang', 'gap', 'gaps', 'garage', 'garbage', 'garden', 'gari', 'garments', 'gary', 'gas', 'gautham', 'gave', 'gay', 'gayd', 'gays', 'gaytextbuddycom', 'gaze', 'gb', 'gbp', 'gbp450week', 'gbp5month', 'gbpsms', 'gbpweek', 'gd', 'gdeve', 'gdnow', 'gdthe', 'ge', 'gee', 'geeee', 'geeeee', 'geelater', 'gek1510', 'gender', 'general', 'generally', 'genius', 'gent', 'gentle', 'gentleman', 'gently', 'genuine', 'gep', 'ger', 'germany', 'get', 'get4an18th', 'geting', 'gets', 'getsleep', 'getstop', 'gettin', 'getting', 'gf', 'ghodbandar', 'ghost', 'gibbs', 'gibe', 'gift', 'gifted', 'giggle', 'gigolo', 'gimme', 'gimmi', 'gin', 'girl', 'girld', 'girlfrnd', 'girlie', 'girls', 'gist', 'giv', 'give', 'given', 'gives', 'giving', 'givits', 'glad', 'glands', 'glass', 'glo', 'global', 'glorious', 'glory', 'gmgngegn', 'gmgngegnt', 'gmw', 'gn', 'gnarls', 'go', 'go2', 'go2sri', 'goa', 'goal', 'goals', 'gobi', 'god', 'godi', 'godnot', 'gods', 'godtaken', 'godyou', 'goes', 'goggles', 'goigng', 'goin', 'goin2bed', 'going', 'gokila', 'gold', 'golddigger', 'golden', 'goldviking', 'golf', 'gona', 'gone', 'gong', 'gonna', 'good', 'gooddhanush', 'goodenvironment', 'goodfine', 'goodfriend', 'goodies', 'goodmorning', 'goodmorningmy', 'goodnight', 'goodnite', 'goodno', 'goodnoon', 'goodo', 'goods', 'goodtimeoli', 'goodwhen', 'google', 'gopalettan', 'gorgeous', 'gosh', 'gossip', 'gossx', 'got', 'gotmarried', 'goto', 'gotta', 'gotten', 'gotto', 'govtinstituitions', 'gowait', 'gower', 'gpu', 'gr8', 'gr8fun', 'gr8prizes', 'grab', 'grace', 'graduated', 'grahmbell', 'gram', 'gran', 'grand', 'grandfather', 'grandma', 'grandmas', 'granite', 'granted', 'graphics', 'grasp', 'grave', 'gravel', 'gravity', 'gravy', 'gray', 'grazed', 'great', 'greatbhaji', 'greatest', 'greatly', 'greatness', 'greece', 'green', 'greet', 'greeting', 'greetings', 'grief', 'grinder', 'grins', 'grinule', 'grl', 'grocers', 'grooved', 'groovy', 'groovying', 'ground', 'groundamla', 'group', 'grow', 'growing', 'grown', 'grownup', 'growrandom', 'grr', 'grumble', 'grumpy', 'gs', 'gsex', 'gsoh', 'gt', 'gua', 'guarantee', 'guaranteed', 'gucci', 'gud', 'gudk', 'gudnite', 'gudnyt', 'guess', 'guessed', 'guesses', 'guessin', 'guessing', 'guide', 'guides', 'guild', 'guilty', 'guitar', 'gumbys', 'guoyang', 'gurl', 'gut', 'guy', 'guys', 'gv', 'gving', 'gwr', 'gym', 'gynae', 'ha', 'habbahw', 'habit', 'hack', 'had', 'hadnt', 'hadya', 'haf', 'haha', 'hahahause', 'hahatake', 'hai', 'hail', 'hair', 'haircut', 'hairdressers', 'haiyoh', 'haiz', 'half', 'half8th', 'hall', 'halla', 'hallaq', 'halloween', 'ham', 'hamper', 'hamster', 'hand', 'handed', 'handing', 'handle', 'hands', 'handset', 'hang', 'hanger', 'hangin', 'hanging', 'hanks', 'hannaford', 'happen', 'happend', 'happened', 'happenin', 'happening', 'happens', 'happiest', 'happily', 'happiness', 'happy', 'hard', 'hardcore', 'hardest', 'hardly', 'hari', 'harishs', 'harlem', 'has', 'hasbroin', 'hasnt', 'hat', 'hate', 'hates', 'haul', 'haunt', 'hav', 'hav2hear', 'havbeen', 'have', 'havebeen', 'haven', 'havent', 'haventcn', 'havin', 'having', 'havnt', 'hcl', 'hdd', 'he', 'head', 'headache', 'headin', 'heading', 'heads', 'headstart', 'heal', 'healer', 'healthy', 'heap', 'hear', 'heard', 'hearing', 'heart', 'hearted', 'heartgn', 'heartheart', 'heartsnot', 'heat', 'heater', 'heavily', 'heavy', 'hectic', 'hee', 'heehee', 'hehe', 'height', 'held', 'helen', 'helens', 'hell', 'hella', 'hello', 'hellodrivby0quit', 'helloed', 'hellogorgeous', 'hellohow', 'helloooo', 'help', 'help08700469649', 'help08712400602450p', 'help08718728876', 'helping', 'helpline', 'helps', 'heltiniiyo', 'hen', 'hence', 'henry', 'her', 'here', 'herepls', 'hereremember', 'heri', 'herlove', 'hermy', 'heroes', 'heroi', 'heron', 'herself', 'hershe', 'herwho', 'herwill', 'hes', 'hesitant', 'hesitate', 'hesitation', 'hex', 'hey', 'heygreat', 'hgsuite3422lands', 'hgsuite3422landsroww1j6hl', 'hhahhaahahah', 'hi', 'hicts', 'hidden', 'hide', 'hides', 'hiding', 'high', 'highest', 'hii', 'hilariousalso', 'hill', 'hills', 'him', 'himself', 'himso', 'himthen', 'hint', 'hip', 'his', 'hisher', 'history', 'hit', 'hitechnical', 'hitler', 'hits', 'hitteranyway', 'hittng', 'hiwhat', 'hiya', 'hl', 'hlday', 'hlp', 'hm', 'hme', 'hmm', 'hmmbad', 'hmmm', 'hmmmhow', 'hmmmkbut', 'hmmmm', 'hmmmstill', 'hmmmy', 'hmph', 'hmv', 'hmv1', 'ho', 'hockey', 'hogidhechinnu', 'hogli', 'hogolo', 'hol', 'holby', 'hold', 'holder', 'holding', 'hole', 'holiday', 'holidayso', 'holla', 'hollalater', 'hols', 'holy', 'home', 'homebut', 'homecheck', 'homeleft', 'homelove', 'homeowners', 'homewot', 'hon', 'honest', 'honestly', 'honesty', 'honey', 'honeybee', 'honeydid', 'honeymoon', 'honi', 'hont', 'hoo', 'hooch', 'hook', 'hoops', 'hop', 'hope', 'hopeafternoon', 'hoped', 'hopeful', 'hopefully', 'hopeing', 'hopes', 'hopeso', 'hopeu', 'hoping', 'hor', 'horniest', 'horny', 'horo', 'horrible', 'horse', 'hos', 'hospital', 'hospitals', 'hostbased', 'hostel', 'hostile', 'hot', 'hotel', 'hotels', 'hotmix', 'hottest', 'hour', 'hourish', 'hours', 'house', 'houseful', 'housemaid', 'housewives', 'housework', 'housing', 'how', 'howard', 'howda', 'howdy', 'however', 'howre', 'hows', 'howu', 'howve', 'howz', 'hp', 'hp20', 'hppnss', 'hr', 'hrishi', 'hrs', 'hsbc', 'html', 'httpalto18coukwavewaveaspo44345', 'httpcareers', 'httpdoit', 'httpgotbabescouk', 'httpimg', 'httptms', 'httpwap', 'httpwwwbubbletextcom', 'httpwwwetlpcoukreward', 'httpwwwgr8prizescom', 'httpwwwurawinnercom', 'httpwwwwtlpcouktext', 'hubby', 'hubbys', 'hudgi', 'hug', 'huge', 'hugging', 'hugh', 'hugs', 'huh', 'huiming', 'hum', 'humanities', 'humans', 'hun', 'hundred', 'hundredhe', 'hungover', 'hungry', 'hunks', 'hunny', 'hunnyhope', 'hunnywot', 'hunonbus', 'hunting', 'hurricanes', 'hurried', 'hurry', 'hurt', 'hurting', 'hurts', 'husband', 'hussey', 'hustle', 'hut', 'hv', 'hvae', 'hw', 'hwd', 'hyde', 'iam', 'ias', 'ibh', 'ibhltd', 'ibiza', 'ibm', 'ibn', 'ibored', 'ic', 'iccha', 'ice', 'icic', 'icicibankcom', 'icky', 'icon', 'id', 'idc', 'idconvey', 'idea', 'ideal', 'ideas', 'identification', 'identifier', 'idiot', 'idk', 'idps', 'ie', 'if', 'iff', 'ifink', 'ifwhenhow', 'ig11', 'ignorant', 'ignore', 'ijust', 'ikea', 'iknow', 'il', 'ill', 'illspeak', 'ilol', 'im', 'image', 'images', 'imaginationmy', 'imagine', 'imat', 'imf', 'imin', 'imma', 'immed', 'immediately', 'imp', 'impatient', 'important', 'importantly', 'imposed', 'impossible', 'imposter', 'impress', 'impressed', 'impression', 'improve', 'improved', 'imprtant', 'in', 'in2', 'inc', 'inch', 'inches', 'incident', 'inclu', 'include', 'includes', 'including', 'inclusive', 'inconsiderate', 'inconvenience', 'inconvenient', 'increase', 'incredible', 'increments', 'indeed', 'independence', 'independently', 'india', 'indian', 'indianpls', 'indians', 'indicate', 'individual', 'individualtime', 'indyarockscom', 'infact', 'infections', 'infernal', 'influx', 'info', 'inforingtonekingcouk', 'inform', 'information', 'informed', 'informedrgdsrakheshkerala', 'infovipclub4u', 'infowww100percentrealcom', 'infra', 'infront', 'ing', 'ink', 'inlude', 'inmind', 'innings', 'innocent', 'innu', 'inour', 'inperialmusic', 'inpersonation', 'inr', 'insects', 'insha', 'inside', 'inspection', 'install', 'installation', 'installing', 'instant', 'instantly', 'instead', 'instructions', 'insurance', 'intelligent', 'intend', 'intention', 'intentions', 'interest', 'interested', 'interesting', 'interfued', 'internet', 'internetservice', 'interview', 'interviw', 'intha', 'into', 'intrepid', 'intro', 'invaders', 'invest', 'investigate', 'invite', 'invited', 'inviting', 'invnted', 'involve', 'involved', 'iouri', 'ip', 'ip4', 'ipad', 'ipaditan', 'ipads', 'iphone', 'ipod', 'iq', 'iraq', 'iriver', 'iron', 'ironing', 'irritated', 'irritates', 'irritating', 'irritation', 'irulinae', 'is', 'isaiahd', 'isare', 'iscoming', 'ish', 'ishtamayoohappy', 'island', 'islands', 'islove', 'isnt', 'issue', 'issues', 'isvimportant', 'it', 'italian', 'itc', 'itcould', 'items', 'ithink', 'ithis', 'iti', 'itjust', 'itleave', 'itlet', 'itll', 'itmay', 'itna', 'itor', 'itplspls', 'itried2tell', 'its', 'itself', 'itsnot', 'ittb', 'itu', 'itwhichturnedinto', 'itxt', 'itxx', 'itz', 'ive', 'iwana', 'iwasmarinethats', 'iz', 'izzit', 'j89', 'jabo', 'jacket', 'jackpot', 'jackson', 'jacuzzi', 'jada', 'jade', 'jaklin', 'jam', 'james', 'jamster', 'jamstercouk', 'jamsterget', 'jamz', 'jan', 'jane', 'janinexx', 'january', 'janx', 'jap', 'japanese', 'jason', 'java', 'jay', 'jaya', 'jaykwon', 'jays', 'jaz', 'jazz', 'jb', 'jd', 'je', 'jealous', 'jeans', 'jeetey', 'jeevithathile', 'jelly', 'jen', 'jenne', 'jenny', 'jeremiah', 'jerry', 'jess', 'jesus', 'jetton', 'jewelry', 'jez', 'jia', 'jiayin', 'jide', 'jiu', 'jjc', 'jo', 'joanna', 'job', 'jobs', 'jobyet', 'jocks', 'jog', 'jogging', 'john', 'johnsounds', 'join', 'joined', 'joinedhope', 'joinedso', 'joining', 'joke', 'jokes', 'jokethet', 'jokin', 'joking', 'jolly', 'jolt', 'jon', 'jones', 'jontin', 'jordan', 'jos', 'jot', 'journey', 'joy', 'joys', 'jst', 'jstfrnd', 'jsut', 'juan', 'judgementali', 'juicy', 'jules', 'july', 'jump', 'jumpers', 'june', 'jungle', 'junna', 'jurong', 'jus', 'just', 'juswoke', 'juz', 'k52', 'k61', 'k718', 'kaaj', 'kadeem', 'kafter', 'kaiez', 'kaitlyn', 'kalaachutaarama', 'kall', 'kallis', 'kalstiyathen', 'kama', 'kanagu', 'kane', 'kanji', 'kano', 'kanoanyway', 'kanoil', 'kanowhr', 'kappa', 'karaoke', 'karnan', 'karo', 'kate', 'katexxx', 'kavalan', 'kay', 'kaypoh', 'kb', 'kbut', 'kdo', 'ke', 'keen', 'keep', 'keeping', 'keepintouch', 'keeps', 'kegger', 'keng', 'kens', 'kent', 'kept', 'kerala', 'keralacircle', 'kettoda', 'key', 'keypad', 'keys', 'kfc', 'kg', 'kgive', 'kgood', 'khelate', 'ki', 'kicchu', 'kick', 'kickboxing', 'kickoff', 'kicks', 'kid', 'kidding', 'kids', 'kidz', 'kill', 'killed', 'killing', 'kills', 'kilos', 'kim', 'kind', 'kinda', 'kindly', 'king', 'kingdom', 'kintu', 'kip', 'kisi', 'kiss', 'kisses', 'kissing', 'kit', 'kittum', 'kitty', 'kkadvance', 'kkany', 'kkapo', 'kkcongratulation', 'kkfrom', 'kkgoodstudy', 'kkhow', 'kkim', 'kkits', 'kkthis', 'kkwhat', 'kkwhen', 'kkwhere', 'kkwhy', 'kl341', 'knackered', 'knees', 'knew', 'knickers', 'knock', 'knocking', 'know', 'knowhe', 'knowing', 'known', 'knowneway', 'knows', 'knowthis', 'knowwait', 'knowyetunde', 'knw', 'ko', 'kochi', 'kodstini', 'kodthini', 'konw', 'korche', 'korean', 'korli', 'korte', 'kotees', 'kothi', 'kr', 'ksry', 'kthen', 'ktv', 'ku', 'kuch', 'kudiyarasu', 'kusruthi', 'kvb', 'kwish', 'kyou', 'kz', 'l8er', 'l8r', 'la', 'la1', 'la32wu', 'lab', 'lac', 'lacsthats', 'lacsthere', 'laden', 'ladies', 'ladiesu', 'lady', 'lag', 'lage', 'laid', 'laidwant', 'lakhs', 'lambda', 'lamp', 'lancaster', 'land', 'landline', 'landlineonly', 'landlines', 'lands', 'lane', 'langport', 'lanka', 'lap', 'lapdancer', 'laptop', 'lar', 'lara', 'laready', 'large', 'largest', 'lark', 'last', 'lastest', 'lasting', 'late', 'latebut', 'latei', 'lately', 'latelyxxx', 'later', 'lateso', 'latest', 'latests', 'latr', 'laugh', 'laughed', 'laughing', 'laughs', 'laundry', 'laurie', 'lautech', 'lavender', 'law', 'laxinorficated', 'lay', 'layin', 'laying', 'lays', 'lazy', 'lccltd', 'ldn', 'ldnw15h', 'le', 'lead', 'leads', 'leafdayno', 'league', 'leannewhat', 'learn', 'learned', 'least', 'least5times', 'leastwhich', 'leave', 'leaves', 'leaving', 'lect', 'lecture', 'lecturer', 'left', 'leftovers', 'leg', 'legal', 'legs', 'leh', 'lehhaha', 'lei', 'lekdog', 'lemme', 'length', 'lennon', 'leo', 'leona', 'leonardo', 'leonas', 'les', 'less', 'lesser', 'lesson', 'lessons', 'let', 'lets', 'letter', 'letters', 'leu', 'level', 'li', 'liao', 'liaoso', 'lib', 'libertines', 'library', 'lick', 'licks', 'lido', 'lie', 'lies', 'life', 'lifeand', 'lifebook', 'lifeis', 'lifethis', 'lifetime', 'lifeyou', 'lifpartnr', 'lift', 'lifted', 'lifting', 'light', 'lighters', 'lightly', 'lik', 'like', 'liked', 'likely', 'likes', 'likeyour', 'lil', 'lily', 'lim', 'limit', 'limited', 'limits', 'lindsay', 'line', 'linear', 'linerental', 'lines', 'lineyou', 'lingerie', 'lingo', 'link', 'links', 'linux', 'lion', 'lionm', 'lionp', 'lions', 'lip', 'lipo', 'lips', 'liquor', 'list', 'listed', 'listen', 'listener', 'listening', 'listening2the', 'listn', 'lists', 'lit', 'literally', 'litres', 'little', 'live', 'lived', 'liver', 'liverpool', 'lives', 'living', 'lk', 'll', 'lm', 'lmao', 'lnly', 'lo', 'loads', 'loan', 'loans', 'local', 'location', 'locations', 'lock', 'locks', 'lodge', 'lodging', 'log', 'login', 'logo', 'logoff', 'logon', 'logopic', 'logosmusicnews', 'loko', 'lol', 'lolnice', 'lololo', 'londn', 'london', 'loneliness', 'lonely', 'long', 'longer', 'loo', 'look', 'lookatme', 'looked', 'lookin', 'looking', 'looks', 'lool', 'loooooool', 'looovvve', 'loose', 'loosing', 'loosu', 'lor', 'lord', 'lorgoin', 'lorwe', 'lose', 'losers', 'loses', 'losing', 'loss', 'lost', 'lot', 'loti', 'lotr', 'lots', 'lotsly', 'lotsof', 'lotta', 'lotto', 'lotwill', 'lou', 'lounge', 'lousy', 'lov', 'lovable', 'love', 'loved', 'lovejen', 'lovely', 'loveme', 'lover', 'loverboy', 'lovers', 'loves', 'lovin', 'loving', 'lovingly', 'lovly', 'low', 'lower', 'lowes', 'loxahatchee', 'loyal', 'loyalty', 'lrg', 'ls1', 'ls15hb', 'ls278bb', 'lst', 'lt', 'lt3', 'ltd', 'ltd150mtmsgrcvd18', 'ltdecimalgt', 'ltdhelpdesk', 'ltemailgt', 'ltgt', 'lttimegt', 'lttrs', 'lturlgt', 'luck', 'luck2', 'lucky', 'lucozade', 'lucozadecoukwrc', 'lucy', 'lucyxx', 'luks', 'lunch', 'lunchtime', 'lunchyou', 'lunsford', 'lush', 'luton', 'luv', 'luvnight', 'luvs', 'lux', 'luxury', 'lv', 'lvblefrnd', 'lyf', 'lyfu', 'lying', 'lyricalladie21f', 'lyrics', 'm100', 'm221bp', 'm227xy', 'm26', 'm263uz', 'm39m51', 'm6', 'm8', 'm8s', 'm95', 'ma', 'maaaan', 'maangalyam', 'maat', 'mac', 'macha', 'machan', 'machines', 'macho', 'mack', 'macleran', 'macs', 'mad', 'mad1', 'mad2', 'madam', 'madamregret', 'made', 'madodu', 'madoke', 'madstini', 'madthen', 'mag', 'maga', 'magazine', 'maggi', 'magic', 'magical', 'magicalsongsblogspotcom', 'mah', 'mahal', 'mahfuuzmeaning', 'mail', 'mailbox', 'mailed', 'maili', 'mails', 'main', 'maintain', 'major', 'make', 'makes', 'makiing', 'makin', 'making', 'malaria', 'malarky', 'male', 'mall', 'mallika', 'man', 'manage', 'manageable', 'managed', 'management', 'manda', 'mandan', 'mandara', 'mandy', 'maneesha', 'manege', 'mango', 'maniac', 'manky', 'many', 'map', 'mapquest', 'maps', 'march', 'margaret', 'margin', 'mark', 'market', 'marketing', 'marking', 'marley', 'marrgeremembr', 'marriage', 'marriageprogram', 'married', 'marry', 'marsms', 'marvel', 'mary', 'mas', 'masked', 'massages', 'massagetiepos', 'massive', 'masteriastering', 'masters', 'mat', 'match', 'matches', 'mate', 'mates', 'math', 'mathe', 'mathematics', 'mathews', 'maths', 'matric', 'matrix3', 'matter', 'mattermsg', 'matters', 'matthew', 'matured', 'maturity', 'max', 'max10mins', 'max7', 'maximize', 'maximum', 'may', 'mayb', 'maybe', 'mb', 'mca', 'mcat', 'me', 'meal', 'meals', 'mean', 'meaning', 'means', 'meant', 'meanwhile', 'meare', 'measure', 'meat', 'meatballs', 'mecause', 'med', 'medical', 'medicine', 'medont', 'meds', 'mee', 'meet', 'meetgreet', 'meetin', 'meeting', 'meetins', 'meetitz', 'meets', 'mega', 'meh', 'mei', 'meim', 'meis', 'mel', 'melike', 'melle', 'melnite', 'melody', 'melt', 'member', 'members', 'membership', 'membershiptake', 'memorable', 'memory', 'men', 'meneed', 'mens', 'mental', 'mentionedtomorrow', 'mentionned', 'mentor', 'menu', 'meok', 'meow', 'meowd', 'merely', 'merry', 'mesages', 'meshe', 'meso', 'mess', 'message', 'messaged', 'messageit', 'messageits', 'messageno', 'messagepandy', 'messages', 'messagesim', 'messagesome', 'messagestext', 'messaging', 'messed', 'messenger', 'messy', 'met', 'meummifyingbye', 'mf', 'mfl', 'mgs', 'mi', 'mia', 'michael', 'mid', 'middle', 'midnight', 'mids', 'might', 'mila', 'miles', 'milk', 'milkdayno', 'millers', 'million', 'millions', 'miltazindgi', 'min', 'mina', 'minapn', 'mind', 'minded', 'mindi', 'mindsetbelieve', 'mine', 'mineall', 'minecraft', 'mini', 'minimum', 'minnaminunginte', 'minor', 'mins', 'mins100txtmth', 'minstand', 'minstexts', 'minute', 'minutes', 'minuts', 'miracle', 'mirror', 'mis', 'misbehaved', 'miserable', 'misfits', 'mising', 'misplaced', 'miss', 'misscall', 'missed', 'missin', 'missing', 'missionary', 'misss', 'missunderstding', 'mist', 'mistake', 'mistakes', 'mistakeu', 'misundrstud', 'mite', 'mitsake', 'mittelschmertz', 'miwa', 'mix', 'mjzgroup', 'mk17', 'mk45', 'ml', 'mm', 'mmm', 'mmmm', 'mmmmm', 'mmmmmm', 'mmmmmmm', 'mmsto', 'mns', 'mnth', 'mnths', 'mo', 'moan', 'mob', 'mobcudb', 'mobile', 'mobiles', 'mobilesdirect', 'mobilesvary', 'mobileupd8', 'mobno', 'mobsicom', 'moby', 'mode', 'model', 'modelsony', 'modl', 'module', 'modules', 'moji', 'mojibiola', 'mokka', 'molestedsomeone', 'mom', 'moment', 'moments', 'moms', 'mon', 'monday', 'mondaynxt', 'moneeppolum', 'money', 'moneyas', 'moneyi', 'monkeespeople', 'monkeyaround', 'monkeys', 'monl8rsx', 'mono', 'monoc', 'monos', 'monster', 'month', 'monthly', 'months', 'mood', 'moon', 'moons', 'moral', 'moralone', 'more', 'morn', 'morning', 'mornings', 'morningtake', 'morphine', 'morrow', 'moseley', 'most', 'mostly', 'mother', 'motherfucker', 'motherinlaw', 'motivate', 'motivating', 'motive', 'motor', 'motorola', 'mountain', 'mountains', 'mouse', 'mouth', 'move', 'moved', 'moves', 'movie', 'movies', 'moviewat', 'moving', 'moyep', 'mp3', 'mquiz', 'mr', 'mrng', 'mrt', 'mrur', 'ms', 'msg', 'msg150p', 'msg150rcvd', 'msging', 'msgrcvd18', 'msgs', 'msgs150p', 'msgsd', 'msgsubscription', 'msgwe', 'msn', 'mssuman', 'mt', 'mtalk', 'mth', 'mths', 'mtnl', 'mu', 'much', 'muchand', 'muchi', 'muchimpede', 'mudyadhu', 'mufti', 'muhommad', 'muht', 'multiply', 'multis', 'mum', 'mumbai', 'mumhas', 'mummy', 'mummys', 'mums', 'mumtaz', 'mumtazs', 'mundhe', 'munsters', 'murder', 'murdered', 'murderer', 'mus', 'mushy', 'music', 'musical', 'must', 'musta', 'musthu', 'mutai', 'muz', 'mwahs', 'my', 'mycallsu', 'mylife', 'mymoby', 'myparents', 'mys', 'myself', 'mystery', 'mytonecomenjoy', 'n8', 'na', 'naal', 'nachos', 'nag', 'nagar', 'nah', 'nahi', 'nails', 'naked', 'nalla', 'name', 'name1', 'name2', 'named', 'namemy', 'names', 'nammanna', 'nan', 'nange', 'nanny', 'nap', 'narcotics', 'nasdaq', 'naseeb', 'nasty', 'nat', 'natalie', 'natalja', 'national', 'nationwide', 'nattil', 'natuition', 'natural', 'nature', 'natwest', 'naughty', 'nauseous', 'nav', 'nb', 'nd', 'ne', 'near', 'nearer', 'nearly', 'necesity', 'necessarily', 'necessary', 'necessity', 'neck', 'necklace', 'ned', 'need', 'needa', 'needed', 'neededsalary', 'needing', 'needle', 'needs', 'needy', 'neekunna', 'neft', 'negative', 'neglect', 'neighbor', 'neighbors', 'neither', 'nelson', 'neo69', 'nervous', 'neshanthtel', 'net', 'netcollex', 'netflix', 'nething', 'netno', 'network', 'networking', 'networks', 'neva', 'never', 'nevering', 'neville', 'nevr', 'new', 'neway', 'newest', 'newport', 'news', 'newsby', 'newscaster', 'newshype', 'newspapers', 'next', 'ngage', 'nhs', 'ni8', 'ni8swt', 'nic', 'nice', 'nicenicehow', 'nichols', 'nick', 'nickey', 'nicky', 'nig', 'nigeria', 'nigh', 'night', 'nighters', 'nightnight', 'nightnobody', 'nights', 'nightsexcellent', 'nightswt', 'nigpun', 'nigro', 'nike', 'nikiyu4net', 'nimya', 'nimyapls', 'ninish', 'nino', 'nit', 'nite', 'nite2', 'nitro', 'nitros', 'nitw', 'nitz', 'njan', 'no', 'no1', 'no165', 'no434', 'no440', 'no762', 'no81151', 'no83355', 'no910', 'nobbing', 'nobody', 'nobut', 'noe', 'nofew', 'nohe', 'noi', 'noise', 'noisy', 'noits', 'nokia', 'nokia150p', 'nokia6600', 'nokia6650', 'nokias', 'noline', 'nolistened2the', 'noncomittal', 'none', 'nonetheless', 'nookii', 'noon', 'nooooooo', 'noooooooo', 'nope', 'nor', 'nora', 'norcorp', 'nordstrom', 'norm', 'norm150ptone', 'normal', 'normally', 'northampton', 'nos', 'nose', 'nosh', 'nosy', 'not', 'note', 'notebook', 'notes', 'nothin', 'nothing', 'nothis', 'notice', 'notifications', 'notified', 'notixiquating', 'notxtcouk', 'noun', 'novelty', 'now', 'now1', 'now4t', 'nowadays', 'nowcan', 'nowi', 'nownyt', 'nowonion', 'noworriesloanscom', 'nowreply', 'nowsavamobmember', 'nowsend', 'nowsky', 'nowstill', 'nowuse', 'nr31', 'nt', 'nte', 'ntswt', 'ntt', 'ntwk', 'nudist', 'nuerologist', 'num', 'number', 'numberpls', 'numberrespectful', 'numbers', 'numberso', 'nursery', 'nurungu', 'nus', 'nusstu', 'nuther', 'nutter', 'nvm', 'nvq', 'nw', 'nxt', 'nyc', 'nydc', 'nys', 'nyt', 'nytec2a3lpmsg150p', 'nytho', 'nyusa', 'nìte', 'o2', 'o2coukgames', 'o2fwd', 'obedient', 'obey', 'objection', 'oblisingately', 'obviously', 'occupied', 'occupy', 'occur', 'occurs', 'oceand', 'oclock', 'october', 'odi', 'of', 'of2000', 'ofcourse', 'off', 'offc', 'offcampus', 'offense', 'offer', 'offering', 'offers', 'offerthe', 'office', 'officer', 'officeunderstand', 'officewhats', 'official', 'officially', 'offline', 'ofice', 'oficegot', 'often', 'ogunrinde', 'oh', 'ohi', 'oi', 'oic', 'oil', 'oja', 'ok', 'okay', 'okday', 'okden', 'okey', 'okie', 'okok', 'okors', 'oktake', 'okthenwhats', 'ola', 'olave', 'old', 'olowoyey', 'olympics', 'omg', 'omw', 'on', 'onam', 'oncall', 'once', 'one', 'onedge', 'ones', 'oneta', 'oni', 'onionrs', 'onit', 'online', 'onlinewhy', 'onluy', 'only', 'only1more', 'onlybettr', 'onlyfound', 'onto', 'onwards', 'onwords', 'ooh', 'oooh', 'ooooooh', 'oops', 'open', 'opened', 'opener', 'openin', 'opening', 'operator', 'opinion', 'opinions', 'opponenter', 'opportunity', 'opportunityall', 'opportunitypls', 'opposed', 'opposite', 'opps', 'opt', 'opted', 'optimistic', 'optin', 'option', 'optout', 'or', 'or2optouthv9d', 'or2stoptxt', 'oral', 'orange', 'oranges', 'orc', 'orchard', 'order', 'ordered', 'oredi', 'oreo', 'oreos', 'organise', 'organizer', 'orig', 'original', 'orno', 'ors', 'oru', 'os', 'oso', 'otbox', 'other', 'others', 'otherwise', 'othrs', 'otside', 'ou', 'our', 'ourbacks', 'oursso', 'out', 'outage', 'outages', 'outbid', 'outdoors', 'outfit', 'outfor', 'outgoing', 'outhave', 'outif', 'outl8rjust', 'outrageous', 'outreach', 'outs', 'outside', 'outsomewhere', 'outstanding', 'outta', 'over', 'overdid', 'overdose', 'overemphasiseor', 'overtime', 'ovr', 'ovulatewhen', 'ovulation', 'ow', 'owe', 'owed', 'owl', 'own', 'owned', 'owns', 'ownyouve', 'oxygen', 'oz', 'p399', 'pa', 'paces', 'pack', 'package', 'packalso', 'packing', 'packs', 'padhegm', 'page', 'pages', 'pai', 'paid', 'pain', 'painful', 'painhope', 'paining', 'painit', 'painting', 'palm', 'pan', 'panalambut', 'pandy', 'panicks', 'pansy', 'panties', 'pants', 'pap', 'papa', 'paper', 'papers', 'paperwork', 'paracetamol', 'parachute', 'parade', 'paragon', 'paranoid', 'parantella', 'parchi', 'parco', 'parent', 'parentnot', 'parents', 'parentsi', 'paris', 'parisfree', 'parish', 'park', 'parked', 'parking', 'part', 'participate', 'particularly', 'parties', 'partner', 'partnership', 'parts', 'party', 'partys', 'pases', 'pass', 'passable', 'passed', 'passes', 'passion', 'passionate', 'passport', 'passthey', 'password', 'passwordsatmsms', 'past', 'pataistha', 'patent', 'path', 'paths', 'patients', 'patrick', 'pattern', 'patty', 'paul', 'pay', 'payasam', 'payback', 'payed', 'payed2day', 'payee', 'paying', 'payment', 'payments', 'payoh', 'paypal', 'pc', 'pdate_now', 'peace', 'peaceful', 'peak', 'pee', 'peeps', 'pehle', 'pen', 'pence', 'pendent', 'pending', 'pendingi', 'penis', 'penny', 'people', 'peoples', 'per', 'percent', 'percentages', 'perfect', 'performed', 'perfume', 'perhaps', 'peril', 'period', 'permanent', 'permission', 'permissions', 'perpetual', 'persevered', 'persian', 'person', 'person2die', 'personal', 'personality', 'personally', 'personmeet', 'persons', 'perumbavoor', 'pesky', 'pest', 'pete', 'peteis', 'petexxx', 'petrol', 'petrolrs', 'pg', 'ph', 'ph08700435505150p', 'ph08704050406', 'pharmacy', 'phasing', 'phd', 'phews', 'phil', 'philosophical', 'philosophy', 'phne', 'phone', 'phone750', 'phonebook', 'phoned', 'phones', 'photo', 'photos', 'photoshop', 'php', 'phrase', 'physics', 'piah', 'pic', 'pick', 'picked', 'picking', 'pickle', 'pics', 'picture', 'pictures', 'pictxt', 'pie', 'piece', 'pieces', 'pig', 'piggy', 'pilates', 'pile', 'pillows', 'pimpleseven', 'pin', 'pink', 'pints', 'pisces', 'piss', 'pissed', 'pity', 'pix', 'pizza', 'pl', 'place', 'placed', 'placement', 'placeno', 'places', 'plaid', 'plan', 'plane', 'planet', 'planeti', 'planettalkinstantcom', 'planned', 'planning', 'plans', 'plate', 'platt', 'play', 'played', 'player', 'players', 'playerwhy', 'playi', 'playin', 'playing', 'playng', 'plaza', 'pleasant', 'please', 'pleased', 'pleassssssseeeeee', 'pleasure', 'pleasured', 'plenty', 'plm', 'ploughing', 'pls', 'plsi', 'plum', 'plumbers', 'plumbingremixed', 'plural', 'plus', 'plyr', 'plz', 'pm', 'pmt', 'po', 'po19', 'pobox', 'pobox1', 'pobox11414tcrw1', 'pobox202', 'pobox334', 'pobox36504w45wq', 'pobox45w2tg150p', 'pobox75ldns7', 'pobox84', 'pocked', 'pocketbabecouk', 'pockets', 'pocy', 'pod', 'poem', 'poet', 'point', 'points', 'poker', 'poking', 'pokkiri', 'pole', 'police', 'politicians', 'polo', 'poly', 'poly200p', 'poly3', 'polyc', 'polyh', 'polyph', 'polyphonic', 'polys', 'polytruepixringtonesgames', 'pongal', 'pongaldo', 'ponnungale', 'pookie', 'pool', 'poop', 'poor', 'poorly', 'pop', 'popcorn', 'popped', 'porn', 'porridge', 'portal', 'portege', 'portions', 'pose', 'posh', 'posible', 'position', 'positions', 'positive', 'possession', 'possessive', 'possessiveness', 'possibility', 'possible', 'possiblehope', 'possibly', 'post', 'postal', 'postcode', 'posted', 'posterode', 'postponed', 'posts', 'potato', 'potential', 'pouch', 'pound', 'pounds', 'poured', 'pours', 'pouts', 'power', 'powerful', 'poyyarikaturkolathupalayamunjalur', 'ppl', 'pple', 'pple700', 'ppm', 'ppm150', 'ppt150x3normal', 'prabha', 'prabhaim', 'prabu', 'practical', 'practice', 'practicing', 'practicum', 'practising', 'praises', 'prakasam', 'prakasamanu', 'prakesh', 'praps', 'prasad', 'prasanth', 'pray', 'prayers', 'praying', 'prayingwill', 'prayrs', 'pre', 'prebook', 'predict', 'predicte', 'prediction', 'predictive', 'prefer', 'preferably', 'prem', 'premaricakindly', 'premier', 'prepaid', 'prepare', 'prepared', 'prepayment', 'preschoolcoordinator', 'prescription', 'presence', 'present', 'presents', 'president', 'presnts', 'press', 'pressure', 'pretsorginta', 'pretsovru', 'pretty', 'previews', 'previous', 'previously', 'prey', 'price', 'prices', 'priceso', 'pride', 'priest', 'prin', 'prince', 'princes', 'princess', 'print', 'printed', 'printer', 'printing', 'prior', 'priority', 'priscillas', 'privacy', 'private', 'prix', 'priya', 'prize', 'prizeawaiting', 'prizes', 'prizeswith', 'prizeto', 'pro', 'prob', 'probably', 'problem', 'problematic', 'problembut', 'problemfree', 'problemi', 'problems', 'problms', 'probs', 'probthat', 'process', 'processed', 'processexcellent', 'processnetworking', 'prods', 'products', 'prof', 'professional', 'professors', 'profile', 'profiles', 'profit', 'program', 'programs', 'progress', 'project', 'projects', 'prolly', 'prometazine', 'prominent', 'promise', 'promises', 'promo', 'promoting', 'promptly', 'prompts', 'prone', 'proof', 'proove', 'proper', 'properly', 'property', 'propose', 'props', 'propsd', 'prospects', 'protect', 'prove', 'proverb', 'provided', 'provider', 'province', 'proze', 'prsn', 'ps', 'ps3', 'pshewmissing', 'psp', 'psxtra', 'psychiatrist', 'psychologist', 'pt2', 'ptbo', 'pthis', 'pub', 'pubcafe', 'public', 'publish', 'pubs', 'pudunga', 'pull', 'pulling', 'pump', 'punch', 'punish', 'punishment', 'punto', 'puppy', 'pura', 'purchase', 'purchases', 'pure', 'purity', 'purpose', 'purse', 'push', 'pushbutton', 'pushes', 'pussy', 'put', 'puttin', 'putting', 'puzzeles', 'px3748', 'qatar', 'qatarrakhesh', 'qbank', 'qet', 'qi', 'qing', 'quality', 'que', 'queen', 'queries', 'ques', 'question', 'questioned', 'questions', 'questionstd', 'quick', 'quickly', 'quiet', 'quit', 'quite', 'quiteamuzing', 'quitting', 'quiz', 'quizclub', 'quizwin', 'quizzes', 'quote', 'quoting', 'racal', 'racing', 'radiator', 'radio', 'raed', 'rael', 'raglan', 'rahul', 'railway', 'rain', 'raining', 'raise', 'raised', 'raj', 'rajas', 'rajipls', 'rajitha', 'rajnikant', 'rakhesh', 'rally', 'ralphs', 'ramen', 'ran', 'random', 'randomlly', 'randomly', 'randy', 'rang', 'range', 'ranjith', 'ranju', 'raping', 'rate', 'rates', 'ratetcs', 'rather', 'ratio', 'rats', 'rawring', 'rayan', 'rayman', 'rays', 'rcbbattle', 'rcv', 'rcvd', 'rd', 'rdy', 're', 'reach', 'reached', 'reaching', 'reacting', 'reaction', 'read', 'readiness', 'reading', 'ready', 'readyall', 'real', 'real1', 'realise', 'realised', 'realising', 'reality', 'realize', 'realized', 'realizes', 'really', 'reallyneed', 'realy', 'reapply', 'rearrange', 'reason', 'reasonable', 'reasons', 'reassurance', 'rebel', 'reboot', 'rebtel', 'rec', 'recd', 'recdthirtyeight', 'receipt', 'receipts', 'receiptswell', 'receive', 'receivea', 'received', 'receiving', 'recent', 'recently', 'reception', 'recession', 'recharge', 'recharged', 'rechargerakhesh', 'recieve', 'reckon', 'recognise', 'recognises', 'record', 'recorded', 'recorder', 'records', 'recount', 'recovery', 'recpt', 'recreation', 'recycling', 'red', 'redeemable', 'redred', 'ree', 'ref', 'ref9280114', 'ref9307622', 'reference', 'references', 'referin', 'refilled', 'reflex', 'reformat', 'refreshed', 'refund', 'refundedthis', 'refused', 'reg', 'regard', 'regarding', 'regards', 'register', 'registered', 'registration', 'regret', 'regretted', 'regular', 'rejected', 'relation', 'relationshipits', 'relatives', 'relax', 'relaxing', 'released', 'reliant', 'relieved', 'religiously', 'relocate', 'reltnship', 'rem', 'remain', 'remains', 'remb', 'remember', 'remembered', 'rememberi', 'remembr', 'remembrs', 'remet', 'remind', 'reminded', 'reminder', 'reminding', 'reminds', 'removal', 'remove', 'removed', 'rencontre', 'renewal', 'renewed', 'renewing', 'rent', 'rental', 'renting', 'rentl', 'rents', 'repair', 'repairs', 'repeat', 'repeating', 'repent', 'replacing', 'replied', 'replies', 'reply', 'replybe', 'replying', 'replys150', 'report', 'reppurcussions', 'representative', 'republic', 'request', 'requests', 'required', 'requirements', 'requires', 'reschedule', 'research', 'resend', 'resent', 'reservations', 'reserve', 'reserved', 'reserves', 'residency', 'resizing', 'resolution', 'resolved', 'resort', 'respect', 'respectful', 'responcewhat', 'respond', 'responding', 'response', 'responsibilities', 'responsibility', 'responsible', 'rest', 'restaurant', 'restock', 'restocked', 'restrict', 'restuwud', 'restwish', 'resub', 'resubbing', 'resubmit', 'result', 'results', 'resume', 'resuming', 'retrieve', 'return', 'returned', 'returns', 'reunion', 'reveal', 'revealed', 'revealing', 'reverse', 'review', 'revision', 'reward', 'rewarding', 'rg21', 'rgent', 'rhode', 'rhythm', 'rice', 'rich', 'riddance', 'ridden', 'ride', 'right', 'rightio', 'rightly', 'rights', 'rileys', 'rimac', 'ring', 'ringing', 'ringsreturn', 'ringtone', 'ringtonefrom', 'ringtoneget', 'ringtoneking', 'ringtones', 'rinu', 'rip', 'ripped', 'rise', 'risk', 'risks', 'rite', 'ritten', 'river', 'road', 'roads', 'roadsrvx', 'roast', 'rob', 'robinson', 'robs', 'rock', 'rocking', 'rocks', 'rodds1', 'rodger', 'rofl', 'roger', 'role', 'roles', 'rolled', 'roller', 'romantic', 'romcapspam', 'ron', 'rons', 'room', 'roomate', 'roommate', 'roommates', 'rooms', 'ros', 'rose', 'roses', 'rough', 'round', 'rounderso', 'rounds', 'route', 'row', 'rows', 'roww1j6hl', 'roww1jhl', 'royal', 'rp176781', 'rpl', 'rply', 'rreveal', 'rs', 'rs5', 'rstm', 'rtking', 'rtm', 'rto', 'ru', 'rub', 'rubber', 'rude', 'rudi', 'rugby', 'ruin', 'ruining', 'rule', 'rules', 'rum', 'rummer', 'rumour', 'run', 'running', 'runninglets', 'runs', 'rush', 'rushing', 'rv', 'ryan', 'ryans', 'ryder', 's3xy', 's8', 'sac', 'sachin', 'sacked', 'sacrifice', 'sad', 'sae', 'saeed', 'safe', 'sagamu', 'saibaba', 'said', 'saidif', 'sake', 'salad', 'salam', 'salary', 'sale', 'sales', 'salespee', 'sall', 'salon', 'salt', 'sam', 'samachara', 'samantha', 'sambarlife', 'same', 'sameso', 'sandiago', 'sane', 'sankranti', 'santa', 'santha', 'sao', 'sapna', 'sar', 'sarasota', 'sarcasm', 'sarcastic', 'saristar', 'sariyag', 'sary', 'sat', 'satanic', 'sathy', 'sathya', 'satisfied', 'satisfy', 'satjust', 'satlove', 'satsgettin', 'satsounds', 'satthen', 'saturday', 'satü', 'saucy', 'sausagelove', 'savamob', 'save', 'saved', 'saves', 'savings', 'saw', 'say', 'sayin', 'saying', 'says', 'sbut', 'sc', 'scallies', 'scammers', 'scarcasim', 'scared', 'scary', 'scenario', 'scenery', 'sch', 'schedule', 'school', 'schools', 'science', 'scold', 'scorable', 'score', 'scores', 'scoring', 'scotch', 'scotland', 'scotsman', 'scouse', 'scraped', 'scratching', 'scream', 'screamed', 'screaming', 'screen', 'screwd', 'scrounge', 'scrumptious', 'sculpture', 'sd', 'sday', 'se', 'sea', 'search', 'searching', 'season', 'seat', 'sec', 'second', 'secondary', 'seconds', 'secret', 'secretary', 'secretly', 'secrets', 'secs', 'section', 'sections', 'secure', 'secured', 'sed', 'see', 'seeds', 'seeing', 'seekers', 'seem', 'seemed', 'seems', 'seen', 'seh', 'sehwag', 'seing', 'select', 'selected', 'selection', 'self', 'selfindependence', 'selfish', 'selflessness', 'sell', 'selling', 'sells', 'sem', 'semester', 'semiobscure', 'sen', 'send', 'sender', 'sendername', 'sending', 'sends', 'senrddnot', 'sense', 'sensesrespect', 'sensitive', 'sent', 'sentdate', 'sentence', 'senthil', 'senthilhsbc', 'seperated鈥〨ud', 'sept', 'september', 'serena', 'series', 'serious', 'seriously', 'server', 'service', 'services', 'serving', 'servs', 'set', 'setting', 'settings', 'settle', 'settled', 'settling', 'seven', 'seventeen', 'sex', 'sextextukcom', 'sexy', 'sexychat', 'sez', 'sf', 'sfine', 'sfirst', 'sh', 'sha', 'shades', 'shadow', 'shag', 'shagged', 'shah', 'shahjahan', 'shahjahans', 'shake', 'shakespeare', 'shaking', 'shall', 'shame', 'shampain', 'shangela', 'shanghai', 'shant', 'share', 'shared', 'sharing', 'shattered', 'shaved', 'shb', 'shd', 'she', 'sheet', 'sheets', 'sheffield', 'shelf', 'shell', 'shelves', 'sherawat', 'shes', 'shesil', 'shexy', 'shhhhh', 'shifad', 'shijas', 'shinco', 'shindig', 'shining', 'shiny', 'ship', 'shipped', 'shipping', 'shirt', 'shirts', 'shit', 'shite', 'shitin', 'shitjustfound', 'shitload', 'shitstorm', 'shivratri', 'shjas', 'shld', 'shldxxxx', 'shock', 'shocking', 'shoes', 'shola', 'shoot', 'shop', 'shoppin', 'shopping', 'shopthe', 'shopwe', 'shoranur', 'shore', 'shorethe', 'short', 'shortage', 'shortcode', 'shorter', 'shortly', 'shorts', 'shot', 'shoul', 'should', 'shouldnt', 'shouted', 'shouting', 'shoving', 'show', 'showed', 'shower', 'showered', 'showers', 'showing', 'showr', 'shows', 'shracomorsglsuplt10', 'shrek', 'shrub', 'shud', 'shudvetold', 'shuhui', 'shun', 'shut', 'shy', 'si', 'sian', 'sib', 'sic', 'sick', 'sickness', 'sicomo', 'side', 'sif', 'sigh', 'sighs', 'sight', 'sign', 'signal', 'significance', 'significant', 'signin', 'signing', 'silence', 'silent', 'silently', 'silly', 'silver', 'sim', 'simonwatson5120', 'simple', 'simpler', 'simply', 'simpsons', 'simulate', 'since', 'sinco', 'sindu', 'sing', 'singing', 'single', 'singles', 'sink', 'sipix', 'sips', 'sir', 'siri', 'sirjii', 'sirs', 'sirsalam', 'sis', 'sister', 'sisters', 'sit', 'site', 'sitll', 'sitter', 'sitting', 'situation', 'situations', 'siva', 'sivatats', 'six', 'size', 'sized', 'sk3', 'sk38xh', 'skateboarding', 'skilgme', 'skillgame', 'skillgame1winaweek', 'skinny', 'skins', 'skint', 'skip', 'skirt', 'sky', 'skype', 'skyped', 'skyving', 'slaaaaave', 'slacking', 'slap', 'slave', 'sleep', 'sleepin', 'sleeping', 'sleepingand', 'sleeps', 'sleepsweet', 'sleepwellamptake', 'sleepy', 'slept', 'slice', 'slices', 'slide', 'sliding', 'slightly', 'slip', 'slippers', 'slippery', 'slo', 'slo4msgs', 'slob', 'slots', 'slovely', 'slow', 'slower', 'slowing', 'slowly', 'slurp', 'smacks', 'small', 'smaller', 'smart', 'smartcall', 'smarter', 'smartthough', 'smash', 'smashed', 'smear', 'smells', 'smeone', 'smile', 'smiled', 'smiles', 'smiley', 'smiling', 'smoke', 'smoked', 'smokes', 'smokin', 'smoking', 'smoothly', 'sms', 'sms08718727870', 'smsd', 'smsing', 'smsservices', 'smsshsexnetun', 'smth', 'sn', 'snake', 'snap', 'snappy', 'snatch', 'snd', 'sneham', 'snickering', 'sno', 'snogs', 'snoringthey', 'snow', 'snowboarding', 'snuggles', 'so', 'soany', 'soc', 'sochte', 'social', 'sofa', 'soft', 'soil', 'soiree', 'sol', 'sold', 'solihull', 'solve', 'solved', 'some', 'some1', 'somebody', 'someone', 'someones', 'someonethat', 'someonone', 'someplace', 'somerset', 'somethin', 'something', 'sometime', 'sometimerakheshvisitor', 'sometimes', 'sometme', 'somewhat', 'somewhere', 'somewheresomeone', 'somewhr', 'somone', 'somtimes', 'sonetimes', 'song', 'songs', 'sony', 'sonyericsson', 'soon', 'soonc', 'sooner', 'soonlots', 'soooo', 'sooooo', 'sophas', 'sore', 'sorrow', 'sorrowsi', 'sorry', 'sorryin', 'sort', 'sorta', 'sorted', 'sortedbut', 'sorting', 'sorts', 'sory', 'sorydarealyfrm', 'sos', 'soso', 'soul', 'sound', 'sounding', 'sounds', 'soundtrack', 'soup', 'source', 'south', 'souveniers', 'soz', 'sp', 'space', 'spacebucks', 'spaces', 'spain', 'spam', 'spanish', 'spare', 'spares', 'spark', 'sparkling', 'speak', 'speaking', 'special', 'specialcall', 'speciale', 'specialise', 'specially', 'specific', 'specify', 'specs', 'speechless', 'speed', 'speeding', 'speling', 'spell', 'spelled', 'spend', 'spending', 'spent', 'spice', 'spider', 'spiderman', 'spile', 'spin', 'spinout', 'spiral', 'spirit', 'spiritual', 'spjanuary', 'spk', 'spl', 'splat', 'splendid', 'split', 'splleing', 'splwat', 'spoil', 'spoiled', 'spoilt', 'spoke', 'spoken', 'sponsors', 'spook', 'spoon', 'spoons', 'sporadically', 'sport', 'sports', 'sportsx', 'spose', 'spotty', 'spouse', 'sppok', 'spreadsheet', 'spree', 'spring', 'sprint', 'sprwm', 'sptyrone', 'spunout', 'spys', 'sq825', 'squatting', 'squid', 'squishy', 'srs', 'srsly', 'srt', 'sry', 'ssindia', 'ssnervous', 'st', 'stability', 'stable', 'stadium', 'staff', 'staffsciencenusedusgphyhcmkteachingpc1323', 'stage', 'stairs', 'stalk', 'stalking', 'stamped', 'stamps', 'stand', 'standard', 'standing', 'stands', 'stapati', 'star', 'starer', 'staring', 'stars', 'starshine', 'start', 'started', 'startedindia', 'starting', 'starts', 'starve', 'starving', 'starwars3', 'stash', 'stated', 'statement', 'statements', 'station', 'status', 'stay', 'stayed', 'stayin', 'staying', 'stays', 'std', 'stdtxtrate', 'steak', 'steal', 'stealing', 'steam', 'steed', 'step', 'steps', 'stereo', 'stereophonics', 'sterling', 'sterm', 'steve', 'stevelike', 'steyn', 'sth', 'sthis', 'stick', 'sticky', 'stifled', 'stil', 'still', 'stillmaybe', 'stink', 'stitch', 'stock', 'stocked', 'stockport', 'stolen', 'stomach', 'stomps', 'stoners', 'stool', 'stop', 'stop2', 'stop2stop', 'stopbcm', 'stopcost', 'stopcs', 'stopped', 'stops', 'stoptxt', 'stoptxtstop150week', 'store', 'storelike', 'stores', 'stories', 'storming', 'story', 'str', 'str8', 'straight', 'strain', 'strange', 'stranger', 'strangersaw', 'stream', 'street', 'stress', 'stressed', 'stressful', 'stressfull', 'strewn', 'strict', 'strike', 'strings', 'strip', 'stripes', 'strips', 'strokes', 'strong', 'strongbuy', 'strongly', 'strt', 'struggling', 'stu', 'stuck', 'studdying', 'student', 'studentfinancial', 'students', 'studentsthis', 'studies', 'studio', 'study', 'studying', 'studyn', 'stuff', 'stuff42moro', 'stuffed', 'stuffing', 'stuffs', 'stuffwhy', 'stupid', 'stupidits', 'style', 'styling', 'stylish', 'stylist', 'sub', 'subject', 'subletting', 'submitted', 'submitting', 'subpoly', 'subs', 'subscribe', 'subscribed', 'subscriber', 'subscribers', 'subscription', 'subscriptions', 'subscriptn3gbpwk', 'subtoitles', 'success', 'successful', 'successfully', 'sucks', 'sudden', 'suddenly', 'sudn', 'sue', 'suffer', 'suffering', 'suffers', 'sufficient', 'suganya', 'sugar', 'sugardad', 'suggest', 'suggestion', 'suggestions', 'suite', 'suitemates', 'suits', 'sullivan', 'sum', 'sum1', 'sumfing', 'summer', 'summon', 'sumthin', 'sumthinxx', 'sun', 'sunday', 'sundayish', 'sunlight', 'sunny', 'sunoco', 'sunroof', 'sunshine', 'suntec', 'sup', 'super', 'superb', 'superior', 'supervisor', 'suply', 'supose', 'suppliers', 'supplies', 'supply', 'support', 'supportproviding', 'supports', 'supportvery', 'suppose', 'supposed', 'supreme', 'suprman', 'sura', 'sure', 'surely', 'surfing', 'surgical', 'surname', 'surprise', 'surprised', 'surrounded', 'survey', 'surya', 'sutra', 'sux', 'suzy', 'svc', 'sw7', 'sw73ss', 'swalpa', 'swan', 'swann', 'swashbuckling', 'swatch', 'sway', 'swayze', 'swear', 'sweater', 'sweatter', 'sweet', 'sweetest', 'sweetheart', 'sweetie', 'sweets', 'swell', 'swimming', 'swimsuit', 'swing', 'swiss', 'switch', 'swollen', 'swoop', 'swtheart', 'syd', 'syllabus', 'symbol', 'sympathetic', 'symptoms', 'synced', 'syrup', 'system', 'systems', 't91', 'ta', 'table', 'tables', 'tablet', 'tablets', 'tackle', 'tacos', 'tactful', 'tadaaaaa', 'tag', 'tagged', 'tahan', 'tai', 'tait', 'taj', 'take', 'takecare', 'taken', 'takenonly', 'takes', 'takin', 'taking', 'talent', 'talents', 'talk', 'talkbut', 'talked', 'talking', 'talks', 'tall', 'tallahassee', 'tallent', 'tamilnaduthen', 'tampa', 'tank', 'tap', 'tape', 'tariffs', 'taste', 'tat', 'tata', 'tattoos', 'tau', 'taught', 'taunton', 'taxes', 'taxi', 'taxless', 'taxt', 'taylor', 'taylors', 'tayseertissco', 'tb', 'tc', 'tcllc', 'tcrw1', 'tcs', 'tcsbcm4235wc1n3xx', 'tcsstop', 'tddnewsletteremc1couk', 'tea', 'teach', 'teacher', 'teaches', 'teaching', 'teacoffee', 'team', 'teams', 'tear', 'tears', 'tease', 'teasing', 'technical', 'technologies', 'tee', 'teenager', 'teeth', 'teethis', 'tel', 'telephone', 'telephonic', 'teletext', 'tell', 'telling', 'tellmiss', 'tells', 'telly', 'telphone', 'telugu', 'teluguthts', 'temales', 'temp', 'temple', 'ten', 'tenants', 'tendencies', 'tenerife', 'tensed', 'term', 'terminatedwe', 'terms', 'termsapply', 'terrible', 'terrific', 'terrorist', 'tescos', 'tessypls', 'test', 'testing', 'tests', 'tex', 'texd', 'text', 'textbook', 'textbuddy', 'texted', 'textin', 'texting', 'textoperator', 'textpod', 'texts', 'textsweekend', 'tgxxrz', 'th', 'than', 'thangam', 'thank', 'thanks', 'thanks2', 'thanksgiving', 'thankyou', 'thanx', 'thanx4', 'thanxxx', 'thasa', 'that', 'that2worzels', 'thatd', 'thati', 'thatll', 'thatmum', 'thatnow', 'thats', 'thatscool', 'the', 'the4th', 'theacusations', 'theater', 'theatre', 'thecd', 'thedailydraw', 'their', 'them', 'themed', 'themes', 'themob', 'themobyo', 'then', 'thenwill', 'theoretically', 'theory', 'theplace', 'there', 'theredo', 'theregoodnight', 'therell', 'therere', 'theres', 'therexx', 'these', 'theseyours', 'thesis', 'thesmszonecom', 'thewend', 'they', 'theyll', 'theyre', 'thgt', 'thia', 'thin', 'thing', 'thinghow', 'things', 'think', 'thinked', 'thinkin', 'thinking', 'thinks', 'thinkthis', 'thirunelvali', 'this', 'thisdon', 'thk', 'thkin', 'thm', 'thnk', 'tho', 'those', 'thoso', 'thot', 'though', 'thought', 'thoughts', 'thoughtsi', 'thousands', 'thout', 'thread', 'threats', 'three', 'threw', 'thriller', 'throat', 'through', 'throw', 'throwing', 'thrown', 'throws', 'thru', 'thrurespect', 'ths', 'tht', 'thts', 'thuglyfe', 'thurs', 'thursday', 'thus', 'thx', 'thy', 'tick', 'ticket', 'tickets', 'tiempo', 'tiger', 'tight', 'tihs', 'tiime', 'til', 'till', 'tim', 'time', 'timedhoni', 'timegud', 'times', 'timeslil', 'timeyou', 'timeyour', 'timi', 'timin', 'timing', 'timings', 'tiny', 'tip', 'tips', 'tired', 'tiring', 'tirunelvai', 'tirunelvali', 'tirupur', 'tis', 'tisscotayseer', 'title', 'titles', 'titleso', 'tiwary', 'tiz', 'tke', 'tkts', 'tlk', 'tm', 'tming', 'tmobile', 'tmorrowpls', 'tmr', 'tmw', 'tnc', 'tncs', 'to', 'toa', 'toaday', 'tobed', 'toclaim', 'today', 'todaybut', 'todaydo', 'todayfrom', 'todaygood', 'todayhe', 'todays', 'todaysundaysunday', 'todo', 'tog', 'together', 'tohar', 'toilet', 'tok', 'toking', 'tol', 'told', 'toldshe', 'toledo', 'tolerance', 'toleratbcs', 'toll', 'tom', 'tomarrow', 'tome', 'tomeandsaidthis', 'tomo', 'tomocant', 'tomorro', 'tomorrow', 'tomorrowtoday', 'tomorw', 'tone', 'tones', 'tones2u', 'tones2youcouk', 'tonesreply', 'tonexs', 'tongued', 'tonight', 'tonights', 'tonite', 'tons', 'tonsolitusaswell', 'too', 'took', 'tookplace', 'tool', 'toolets', 'tooo', 'toot', 'toothpaste', 'tootsie', 'top', 'topic', 'toplay', 'topped', 'toppoly', 'tops', 'tor', 'torch', 'torrents', 'tortilla', 'torture', 'tosend', 'toshiba', 'tot', 'total', 'totally', 'totes', 'touch', 'touched', 'tough', 'tour', 'towards', 'town', 'towncud', 'towndontmatter', 'toxic', 'track', 'trackmarque', 'trade', 'traffic', 'train', 'trained', 'training', 'trainners', 'trains', 'tram', 'tranquility', 'transaction', 'transfer', 'transferacc', 'transfered', 'transferred', 'transfr', 'transfred', 'transport', 'trash', 'trauma', 'trav', 'travel', 'traveling', 'travelled', 'travelling', 'treacle', 'treadmill', 'treat', 'treated', 'treatin', 'treats', 'trebles', 'tree', 'trek', 'trial', 'tried', 'trip', 'triple', 'trips', 'trishul', 'triumphed', 'trouble', 'trouser', 'truble', 'truck', 'true', 'truekdo', 'truffles', 'truly', 'truro', 'trust', 'trusting', 'truth', 'try', 'tryin', 'trying', 'ts', 'tsandcs', 'tscs', 'tscs08714740323', 'tscs087147403231winawkage16', 'tshirt', 'tsunami', 'tsunamis', 'tt', 'tts', 'ttyl', 'tues', 'tuesday', 'tui', 'tuition', 'tul', 'tulip', 'tunde', 'tune', 'tunji', 'turkeys', 'turn', 'turned', 'turning', 'turns', 'tv', 'tvhe', 'twat', 'twelve', 'twenty', 'twice', 'twiggs', 'twilight', 'twinks', 'twins', 'twittering', 'two', 'tx', 'txt', 'txt250com', 'txtauction', 'txtauctiontxt', 'txtin', 'txting', 'txtjourney', 'txtno', 'txts', 'txtx', 'tyler', 'type', 'typelyk', 'types', 'typical', 'u2moro', 'u4', 'uawakefeellikw', 'ubandu', 'ucall', 'ufind', 'ugadi', 'ugh', 'ugos', 'uh', 'uin', 'ujhhhhhhh', 'uk', 'ukmobiledate', 'ukp2000', 'uks', 'ull', 'ultimate', 'ultimately', 'ultimatum', 'umma', 'ummmawill', 'ummmmmaah', 'un', 'unable', 'unbelievable', 'unclaimed', 'uncle', 'uncles', 'uncomfortable', 'unconscious', 'unconvinced', 'uncountable', 'under', 'underdtand', 'understand', 'understanding', 'understood', 'underwear', 'undrstnd', 'undrstndng', 'uneventful', 'unfolds', 'unfortunately', 'unfortuntly', 'uni', 'unicefs', 'uniform', 'unintentional', 'unintentionally', 'unique', 'uniquei', 'united', 'university', 'unknown', 'unless', 'unlike', 'unlimited', 'unmits', 'unnecessarily', 'unni', 'unrecognized', 'unredeemed', 'unsecured', 'unsold', 'unsoldmike', 'unsoldnow', 'unsub', 'unsubscribe', 'unsubscribed', 'until', 'unusual', 'uothrwise', 'up', 'up4', 'upd8', 'updat', 'update', 'update_now', 'upgrade', 'upgrading', 'upgrdcentre', 'uphad', 'upload', 'uploaded', 'upon', 'upset', 'upseti', 'upstairs', 'upto', 'upyeh', 'ur', 'ure', 'urfeeling', 'urgent', 'urgentbut', 'urgentlyits', 'urgh', 'urgnt', 'urgoin', 'urgran', 'urination', 'urmomi', 'urn', 'urself', 'us', 'usb', 'usc', 'uscedu', 'use', 'used', 'useful', 'useless', 'user', 'uses', 'usf', 'usget', 'usher', 'using', 'uslet', 'usno', 'uso', 'usual', 'usualiam', 'usually', 'uterus', 'utter', 'uttered', 'uu', 'uve', 'uworld', 'vaazhthukkal', 'vague', 'vaguely', 'vai', 'vale', 'valentine', 'valentines', 'valid', 'valid12hrs', 'valuable', 'valued', 'valuemorning', 'valuing', 'varaya', 'vargu', 'various', 'varma', 'vary', 'vat', 'vava', 'vco', 'vday', 've', 'vegas', 'vegetables', 'vehicle', 'velly', 'velusamy', 'venaam', 'venugopal', 'verified', 'verify', 'verifying', 'version', 'very', 'vettam', 'via', 'vibrant', 'vibrate', 'vibrator', 'vic', 'victoria', 'video', 'videochat', 'videophones', 'videopic', 'videos', 'videosound', 'videosounds2', 'view', 'vijay', 'vijaykanth', 'vikky', 'vikkyim', 'vilikkamt', 'vill', 'villa', 'village', 'violated', 'violence', 'violet', 'vip', 'virgils', 'virgin', 'virtual', 'visa', 'visionsmscom', 'visit', 'visiting', 'visitneed', 'visitors', 'vital', 'vitamin', 'viva', 'vivek', 'vivekanand', 'viveki', 'vl', 'vldo', 'voda', 'vodafone', 'vodka', 'voice', 'voicemail', 'voila', 'volcanoes', 'vomit', 'vomitin', 'vomiting', 'vote', 'voted', 'voucher', 'vouchers', 'voucherstext', 'vpist', 'vpod', 'vry', 'vth', 'vtired', 'vu', 'w111wx', 'w14rg', 'w1a', 'w1j', 'w1t1jy', 'w4', 'w45wq', 'w8in', 'wa', 'wa14', 'waaaat', 'wad', 'wadebridgei', 'wah', 'wahala', 'wahay', 'waheed', 'wahleykkumsharing', 'waht', 'wait', 'waiti', 'waitin', 'waiting', 'waitshould', 'waitu', 'wake', 'waking', 'wales', 'waliking', 'walk', 'walkabout', 'walked', 'walkin', 'walking', 'wallet', 'wallpaper', 'walls', 'walmart', 'wamma', 'wan', 'wan2', 'wana', 'wanna', 'wannatell', 'want', 'want2come', 'wanted', 'wanting', 'wants', 'wap', 'waqt', 'warm', 'warming', 'warned', 'warner', 'warning', 'warranty', 'warwick', 'was', 'washob', 'wasnt', 'waste', 'wasting', 'wat', 'watch', 'watched', 'watches', 'watching', 'watchng', 'water', 'watever', 'watevr', 'wating', 'watll', 'watrdayno', 'wats', 'watts', 'waves', 'way', 'way2smscom', 'waythis', 'wc', 'wc1n', 'wc1n3xx', 'we', 'weak', 'weakness', 'weapon', 'wear', 'wearing', 'weaseling', 'weather', 'weathers', 'web', 'web2mobile', 'webadres', 'webeburnin', 'webpage', 'website', 'websitenow', 'wed', 'wedding', 'weddingfriend', 'wedlunch', 'wednesday', 'weds', 'wee', 'weed', 'weeddeficient', 'week', 'weekdays', 'weekend', 'weekends', 'weekly', 'weeks', 'weekstop', 'weigh', 'weighed', 'weight', 'weighthaha', 'weightloss', 'weird', 'weirdest', 'weirdo', 'weirdy', 'welcome', 'welcomes', 'well', 'wellda', 'welli', 'welltake', 'wellyou', 'welp', 'wen', 'wendy', 'wenever', 'went', 'wenwecan', 'wer', 'were', 'wereare', 'werebored', 'werent', 'werethe', 'wesley', 'wesleys', 'west', 'western', 'westlife', 'westonzoyland', 'westshore', 'wet', 'weve', 'wewa', 'whassup', 'what', 'whatever', 'whats', 'whatsup', 'wheat', 'wheel', 'wheellock', 'when', 'whenever', 'whenevr', 'whens', 'whenwhere', 'where', 'wherebtw', 'wheres', 'wherever', 'wherevr', 'wherres', 'whether', 'which', 'while', 'whileamp', 'whilltake', 'whispers', 'white', 'whn', 'who', 'whole', 'whom', 'whore', 'whos', 'whose', 'whr', 'why', 'wicket', 'wicklow', 'wid', 'widelivecomindex', 'wif', 'wife', 'wifedont', 'wifehow', 'wifes', 'wifi', 'wihtuot', 'wil', 'wild', 'wildest', 'wildlife', 'will', 'willing', 'willpower', 'win', 'win150ppmx3age16', 'wind', 'window', 'windows', 'winds', 'wine', 'wined', 'wining', 'winner', 'winning', 'wins', 'wipe', 'wipro', 'wiproyou', 'wire3net', 'wisdom', 'wise', 'wish', 'wishes', 'wishin', 'wishing', 'wishlist', 'wiskey', 'wit', 'with', 'within', 'without', 'witot', 'witout', 'wiv', 'wizzle', 'wk', 'wkend', 'wkent150p16', 'wkg', 'wkly', 'wknd', 'wks', 'wktxt', 'wlcome', 'wld', 'wmlid1b6a5ecef91ff937819firsttrue180430jul05', 'wmlid820554ad0a1705572711firsttruec', 'wn', 'wnevr', 'wnt', 'wo', 'woah', 'woke', 'woken', 'woman', 'womdarfull', 'women', 'won', 'wondar', 'wonder', 'wonderful', 'wondering', 'wonders', 'wont', 'woo', 'woodland', 'woods', 'woohoo', 'woot', 'woould', 'worc', 'word', 'wordcollect', 'wordnot', 'words', 'wordsevry', 'wordstart', 'work', 'workand', 'workin', 'working', 'worklove', 'workout', 'works', 'world', 'worldgnun', 'worldmay', 'worlds', 'worldvery', 'worms', 'worried', 'worriedx', 'worries', 'worry', 'worrying', 'worryuse', 'worse', 'worst', 'worth', 'worthless', 'wot', 'wotu', 'wotz', 'woul', 'would', 'woulda', 'wouldnt', 'wounds', 'wow', 'wrc', 'wrecked', 'wrench', 'wrenching', 'write', 'writhing', 'wrk', 'wrki', 'wrkin', 'wrking', 'wrks', 'wrld', 'wrnog', 'wrong', 'wrongly', 'wrote', 'ws', 'wt', 'wtf', 'wth', 'wthout', 'wud', 'wudnt', 'wuld', 'wuldnt', 'wun', 'www4tcbiz', 'www80488biz', 'wwwareyouuniquecouk', 'wwwasjesuscom', 'wwwb4utelecom', 'wwwbridalpetticoatdreamscouk', 'wwwclubmobycom', 'wwwclubzedcouk', 'wwwcnupdatescomnewsletter', 'wwwcomuknet', 'wwwdbuknet', 'wwwflirtpartyus', 'wwwfullonsmscom', 'wwwgetzedcouk', 'wwwidewcom', 'wwwldewcom', 'wwwldewcom1win150ppmx3age16', 'wwwldewcom1win150ppmx3age16subscription', 'wwwldewcomsubs161win150ppmx3', 'wwwmovietriviatv', 'wwwmusictrivianet', 'wwworangecoukow', 'wwwphb1com', 'wwwregalportfoliocouk', 'wwwringtonekingcouk', 'wwwringtonescouk', 'wwwrtfsphostingcom', 'wwwsantacallingcom', 'wwwshortbreaksorguk', 'wwwsmsacubootydelious', 'wwwsmsacugoldviking', 'wwwsmsacuhmmross', 'wwwsmsacunat27081980', 'wwwsmsacunatalie2k9', 'wwwsmsconet', 'wwwtcbiz', 'wwwtelediscountcouk', 'wwwtextcompcom', 'wwwtextpodnet', 'wwwtklscom', 'wwwtxt2shopcom', 'wwwtxt43com', 'wwwtxttowincouk', 'wwwwin82050couk', 'wylie', 'x2', 'x29', 'x49your', 'xafter', 'xam', 'xavier', 'xchat', 'xclusiveclubsaisai', 'xins', 'xmas', 'xnet', 'xoxo', 'xuhui', 'xx', 'xxsp', 'xxuk', 'xxx', 'xxxmobilemovieclub', 'xxxmobilemovieclubcomnqjkgighjjgcbl', 'xxxx', 'xxxxx', 'xxxxxx', 'xxxxxxx', 'xxxxxxxxxxxxxx', 'xy', 'y87', 'ya', 'yah', 'yahoo', 'yalrigu', 'yalru', 'yam', 'yan', 'yar', 'yards', 'yay', 'yck', 'yday', 'yeah', 'year', 'years', 'yeesh', 'yeh', 'yelling', 'yellow', 'yen', 'yeovil', 'yep', 'yer', 'yes', 'yes165', 'yes434', 'yes440', 'yes762', 'yes910', 'yesbut', 'yesgauti', 'yeshe', 'yeshere', 'yesim', 'yesmum', 'yest', 'yesterday', 'yet', 'yettys', 'yetunde', 'yi', 'yifeng', 'yijue', 'yijuehotmailcom', 'ym', 'yo', 'yoga', 'yogasana', 'yohere', 'yor', 'yorge', 'you', 'youany', 'youcarlos', 'youclean', 'youd', 'youdoing', 'youhow', 'youi', 'youkwhere', 'youll', 'youmoney', 'young', 'younger', 'youphone', 'your', 'youre', 'yourinclusive', 'yourjob', 'yours', 'yourself', 'youso', 'youuuuu', 'youve', 'youwanna', 'youwhen', 'yoville', 'yoyyooo', 'yr', 'yrs', 'ystrdayice', 'yummy', 'yun', 'yunny', 'yuo', 'yup', 'ywhere', 'zahers', 'zealand', 'zed', 'zeros', 'zhong', 'zindgi', 'zoe', 'zouk', 'zyada', 'üll']\n"
     ]
    }
   ],
   "source": [
    "print(vectorizer.get_feature_names())"
   ]
  },
  {
   "cell_type": "code",
   "execution_count": 44,
   "metadata": {},
   "outputs": [
    {
     "data": {
      "text/plain": [
       "(4157, 8385)"
      ]
     },
     "execution_count": 44,
     "metadata": {},
     "output_type": "execute_result"
    }
   ],
   "source": [
    "spam_vectorizer.shape"
   ]
  },
  {
   "cell_type": "code",
   "execution_count": 45,
   "metadata": {},
   "outputs": [],
   "source": [
    "X = spam_vectorizer\n",
    "y = spam['Category']"
   ]
  },
  {
   "cell_type": "code",
   "execution_count": 51,
   "metadata": {},
   "outputs": [],
   "source": [
    "from sklearn.linear_model import SGDClassifier\n",
    "from sklearn.linear_model import LogisticRegression\n",
    "from sklearn import metrics\n",
    "from sklearn.metrics import accuracy_score, confusion_matrix, precision_score"
   ]
  },
  {
   "cell_type": "code",
   "execution_count": 67,
   "metadata": {},
   "outputs": [],
   "source": [
    "#Logistic Regression with Ridge penalty\n",
    "model = LogisticRegression(C=0.001, penalty=\"l2\", max_iter=100)"
   ]
  },
  {
   "cell_type": "code",
   "execution_count": 68,
   "metadata": {},
   "outputs": [
    {
     "data": {
      "text/plain": [
       "LogisticRegression(C=0.001)"
      ]
     },
     "execution_count": 68,
     "metadata": {},
     "output_type": "execute_result"
    }
   ],
   "source": [
    "model.fit(X, y)"
   ]
  },
  {
   "cell_type": "code",
   "execution_count": 69,
   "metadata": {
    "scrolled": true
   },
   "outputs": [
    {
     "data": {
      "text/plain": [
       "array([0, 0, 0, ..., 0, 0, 0])"
      ]
     },
     "execution_count": 69,
     "metadata": {},
     "output_type": "execute_result"
    }
   ],
   "source": [
    "y_pred = model.predict(spam_vectorizer)\n",
    "y_pred"
   ]
  },
  {
   "cell_type": "code",
   "execution_count": 70,
   "metadata": {},
   "outputs": [
    {
     "data": {
      "text/plain": [
       "0.8744286745248978"
      ]
     },
     "execution_count": 70,
     "metadata": {},
     "output_type": "execute_result"
    }
   ],
   "source": [
    "model.score(X, y)"
   ]
  },
  {
   "cell_type": "code",
   "execution_count": 71,
   "metadata": {},
   "outputs": [],
   "source": [
    "from sklearn.metrics import classification_report, confusion_matrix"
   ]
  },
  {
   "cell_type": "code",
   "execution_count": 72,
   "metadata": {},
   "outputs": [
    {
     "name": "stdout",
     "output_type": "stream",
     "text": [
      "              precision    recall  f1-score   support\n",
      "\n",
      "           0       0.87      1.00      0.93      3635\n",
      "           1       0.00      0.00      0.00       522\n",
      "\n",
      "    accuracy                           0.87      4157\n",
      "   macro avg       0.44      0.50      0.47      4157\n",
      "weighted avg       0.76      0.87      0.82      4157\n",
      "\n"
     ]
    }
   ],
   "source": [
    " print(classification_report(y, model.predict(X)))"
   ]
  },
  {
   "cell_type": "markdown",
   "metadata": {},
   "source": [
    "### Q2. Credit score cards are a common risk control method in the financial industry. It uses personal information and data submitted by credit card applicants to predict the probability of future defaults and credit card borrowings. The bank is able to decide whether to issue a credit card to the applicant. Credit scores can objectively quantify the magnitude of risk. \n",
    "\n",
    "### The data file credit_card_application.csv contains all the details collected from different customers whose attributes are explained in the table below. \n",
    "\n",
    "<style type=\"text/css\">\n",
    ".tg  {border-collapse:collapse;border-spacing:0;}\n",
    ".tg td{font-family:Arial, sans-serif;font-size:14px;padding:10px 5px;border-style:solid;border-width:1px;overflow:hidden;word-break:normal;border-color:black;}\n",
    ".tg th{font-family:Arial, sans-serif;font-size:14px;font-weight:normal;padding:10px 5px;border-style:solid;border-width:1px;overflow:hidden;word-break:normal;border-color:black;}\n",
    ".tg .tg-cly1{text-align:left;vertical-align:middle}\n",
    ".tg .tg-0lax{text-align:left;vertical-align:top}\n",
    "</style>\n",
    "<table class=\"tg\">\n",
    "  <tr>\n",
    "    <th class=\"tg-cly1\">Feature name</th>\n",
    "    <th class=\"tg-cly1\">Explanation</th>\n",
    "    <th class=\"tg-cly1\">Remarks</th>\n",
    "  </tr>\n",
    "  <tr>\n",
    "    <td class=\"tg-cly1\">ID</td>\n",
    "    <td class=\"tg-cly1\">client number</td>\n",
    "    <td class=\"tg-cly1\"></td>\n",
    "  </tr>\n",
    "  <tr>\n",
    "    <td class=\"tg-cly1\">'CODE_GENDER'</td>\n",
    "    <td class=\"tg-cly1\">gender</td>\n",
    "    <td class=\"tg-cly1\"></td>\n",
    "  </tr>\n",
    "  <tr>\n",
    "    <td class=\"tg-cly1\">'FLAGOWNCAR'</td>\n",
    "    <td class=\"tg-cly1\">Is there a car</td>\n",
    "    <td class=\"tg-cly1\"></td>\n",
    "  </tr>\n",
    "  <tr>\n",
    "    <td class=\"tg-cly1\">'FLAGOWNREALTY'</td>\n",
    "    <td class=\"tg-cly1\">Is there a property</td>\n",
    "    <td class=\"tg-cly1\"></td>\n",
    "  </tr>\n",
    "  <tr>\n",
    "    <td class=\"tg-cly1\">'CNT_CHILDREN'</td>\n",
    "    <td class=\"tg-cly1\">Number of children</td>\n",
    "    <td class=\"tg-cly1\"></td>\n",
    "  </tr>\n",
    "  <tr>\n",
    "    <td class=\"tg-cly1\">'AMTINCOMETOTAL'</td>\n",
    "    <td class=\"tg-cly1\">Annual income</td>\n",
    "    <td class=\"tg-cly1\"></td>\n",
    "  </tr>\n",
    "  <tr>\n",
    "    <td class=\"tg-cly1\">'NAMEINCOMETYPE'</td>\n",
    "    <td class=\"tg-cly1\">Income category</td>\n",
    "    <td class=\"tg-cly1\"></td>\n",
    "  </tr>\n",
    "  <tr>\n",
    "    <td class=\"tg-cly1\">'NAMEEDUCATIONTYPE'</td>\n",
    "    <td class=\"tg-cly1\">education level</td>\n",
    "    <td class=\"tg-cly1\"></td>\n",
    "  </tr>\n",
    "  <tr>\n",
    "    <td class=\"tg-cly1\">'NAMEFAMILYSTATUS'</td>\n",
    "    <td class=\"tg-cly1\">Marital status</td>\n",
    "    <td class=\"tg-cly1\"></td>\n",
    "  </tr>\n",
    "  <tr>\n",
    "    <td class=\"tg-cly1\">'NAMEHOUSINGTYPE'</td>\n",
    "    <td class=\"tg-cly1\">Way of living</td>\n",
    "    <td class=\"tg-cly1\"></td>\n",
    "  </tr>\n",
    "  <tr>\n",
    "    <td class=\"tg-cly1\">'DAYS_BIRTH'</td>\n",
    "    <td class=\"tg-cly1\">birthday</td>\n",
    "    <td class=\"tg-cly1\"></td>\n",
    "  </tr>\n",
    "  <tr>\n",
    "    <td class=\"tg-cly1\">'DAYS_EMPLOYED'</td>\n",
    "    <td class=\"tg-cly1\">Start date</td>\n",
    "    <td class=\"tg-cly1\"></td>\n",
    "  </tr>\n",
    "  <tr>\n",
    "    <td class=\"tg-cly1\">'FLAG_MOBIL'</td>\n",
    "    <td class=\"tg-cly1\">Is there a mobile phone</td>\n",
    "    <td class=\"tg-cly1\"></td>\n",
    "  </tr>\n",
    "  <tr>\n",
    "    <td class=\"tg-0lax\">'FLAGWORKPHONE'</td>\n",
    "    <td class=\"tg-0lax\">Is there a work phone</td>\n",
    "    <td class=\"tg-0lax\"></td>\n",
    "  </tr>\n",
    "  <tr>\n",
    "    <td class=\"tg-0lax\">'FLAG_PHONE'</td>\n",
    "    <td class=\"tg-0lax\">Is there a phone</td>\n",
    "    <td class=\"tg-0lax\"></td>\n",
    "  </tr>\n",
    "  <tr>\n",
    "    <td class=\"tg-0lax\">'FLAG_EMAIL'</td>\n",
    "    <td class=\"tg-0lax\">Is there an email</td>\n",
    "    <td class=\"tg-0lax\"></td>\n",
    "  </tr>\n",
    "  <tr>\n",
    "    <td class=\"tg-0lax\">'OCCUPATION_TYPE'</td>\n",
    "    <td class=\"tg-0lax\">Occupation</td>\n",
    "    <td class=\"tg-0lax\"></td>\n",
    "  </tr>\n",
    "  <tr>\n",
    "    <td class=\"tg-0lax\">'CNTFAMMEMBERS'</td>\n",
    "    <td class=\"tg-0lax\">Family size</td>\n",
    "    <td class=\"tg-0lax\"></td>\n",
    "  </tr>\n",
    "  <tr>\n",
    "    <td class=\"tg-0lax\">begin_month</td>\n",
    "    <td class=\"tg-0lax\">record month</td>\n",
    "    <td class=\"tg-0lax\">The month of the extracted data is the starting point, backwards, 0 is the current month, -1 is the previous month, and so on</td>\n",
    "  </tr>\n",
    "  <tr>\n",
    "    <td class=\"tg-0lax\">target</td>\n",
    "    <td class=\"tg-0lax\"></td>\n",
    "    <td class=\"tg-0lax\">1 for high risk and 0 for low risk</td>\n",
    "  </tr>\n",
    "</table>\n",
    "\n",
    "\n",
    "### Use PCA to find the principle components of the given data. Find the retained variance of the data and how much is lost due to applying PCA. If required drop the Null values in the column and get rid of unnecessary categorical columns before applying PCA. \n",
    "### Explain each step including why some columns are to be dropped before applying PCA. Scaling is necessary and must be applied here.\n",
    "\n",
    "### [10 Marks]"
   ]
  },
  {
   "cell_type": "code",
   "execution_count": 20,
   "metadata": {
    "collapsed": true
   },
   "outputs": [],
   "source": [
    "# Start Here for Q2"
   ]
  }
 ],
 "metadata": {
  "anaconda-cloud": {},
  "kernelspec": {
   "display_name": "Python 3",
   "language": "python",
   "name": "python3"
  },
  "language_info": {
   "codemirror_mode": {
    "name": "ipython",
    "version": 3
   },
   "file_extension": ".py",
   "mimetype": "text/x-python",
   "name": "python",
   "nbconvert_exporter": "python",
   "pygments_lexer": "ipython3",
   "version": "3.8.8"
  }
 },
 "nbformat": 4,
 "nbformat_minor": 1
}
